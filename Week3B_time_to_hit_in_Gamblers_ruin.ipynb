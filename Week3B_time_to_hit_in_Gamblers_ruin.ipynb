{
  "nbformat": 4,
  "nbformat_minor": 0,
  "metadata": {
    "colab": {
      "name": "Week3B_time_to_hit_in_Gamblers_ruin.ipynb",
      "provenance": [],
      "authorship_tag": "ABX9TyMZU/VEqLRCM6LoHEzvZ4Tz",
      "include_colab_link": true
    },
    "kernelspec": {
      "name": "python3",
      "display_name": "Python 3"
    },
    "language_info": {
      "name": "python"
    }
  },
  "cells": [
    {
      "cell_type": "markdown",
      "metadata": {
        "id": "view-in-github",
        "colab_type": "text"
      },
      "source": [
        "<a href=\"https://colab.research.google.com/github/mcnica89/MATH4060/blob/main/Week3B_time_to_hit_in_Gamblers_ruin.ipynb\" target=\"_parent\"><img src=\"https://colab.research.google.com/assets/colab-badge.svg\" alt=\"Open In Colab\"/></a>"
      ]
    },
    {
      "cell_type": "code",
      "execution_count": 1,
      "metadata": {
        "id": "9NxVB-9kKh-y"
      },
      "outputs": [],
      "source": [
        "import itertools\n",
        "import jax.numpy as jnp\n",
        "import matplotlib.pyplot as plt\n",
        "from jax import random as jrandom\n",
        "from jax import nn as jnn\n",
        "from jax import jit\n",
        "import random\n",
        "import time\n",
        "import timeit\n",
        "import math\n",
        "import numpy as np\n",
        "\n",
        "plt.rc('xtick', labelsize=15) \n",
        "plt.rc('ytick', labelsize=15)\n",
        "font = {'size'   : 20}\n",
        "\n",
        "plt.rc('font', **font)\n",
        "\n",
        "jnp.set_printoptions(precision=3,suppress=True)"
      ]
    },
    {
      "cell_type": "code",
      "source": [
        "def gamblers_ruin_matrix(N_target):\n",
        "  transition_matrix = np.zeros((N_target+1,N_target+1))\n",
        "  i,j = np.indices(transition_matrix.shape)\n",
        "  transition_matrix[i==j-1] = 0.5\n",
        "  transition_matrix[i==j+1] = 0.5\n",
        "\n",
        "  transition_matrix[0,0] = 1\n",
        "  transition_matrix[0,1] = 0\n",
        "  \n",
        "  transition_matrix[N_target,N_target] = 1\n",
        "  transition_matrix[N_target,N_target-1] = 0\n",
        "  \n",
        "  return transition_matrix"
      ],
      "metadata": {
        "id": "PyWcDd9MKjeB"
      },
      "execution_count": 2,
      "outputs": []
    },
    {
      "cell_type": "code",
      "source": [
        "N_target = 10"
      ],
      "metadata": {
        "id": "yHkBVMv0LeUq"
      },
      "execution_count": 15,
      "outputs": []
    },
    {
      "cell_type": "code",
      "source": [
        "P = gamblers_ruin_matrix(N_target)\n",
        "print(P)"
      ],
      "metadata": {
        "colab": {
          "base_uri": "https://localhost:8080/"
        },
        "id": "1wjbXfO4KoLv",
        "outputId": "ccdb4271-27f5-496b-a8ff-80e710be874c"
      },
      "execution_count": 16,
      "outputs": [
        {
          "output_type": "stream",
          "name": "stdout",
          "text": [
            "[[1.  0.  0.  0.  0.  0.  0.  0.  0.  0.  0. ]\n",
            " [0.5 0.  0.5 0.  0.  0.  0.  0.  0.  0.  0. ]\n",
            " [0.  0.5 0.  0.5 0.  0.  0.  0.  0.  0.  0. ]\n",
            " [0.  0.  0.5 0.  0.5 0.  0.  0.  0.  0.  0. ]\n",
            " [0.  0.  0.  0.5 0.  0.5 0.  0.  0.  0.  0. ]\n",
            " [0.  0.  0.  0.  0.5 0.  0.5 0.  0.  0.  0. ]\n",
            " [0.  0.  0.  0.  0.  0.5 0.  0.5 0.  0.  0. ]\n",
            " [0.  0.  0.  0.  0.  0.  0.5 0.  0.5 0.  0. ]\n",
            " [0.  0.  0.  0.  0.  0.  0.  0.5 0.  0.5 0. ]\n",
            " [0.  0.  0.  0.  0.  0.  0.  0.  0.5 0.  0.5]\n",
            " [0.  0.  0.  0.  0.  0.  0.  0.  0.  0.  1. ]]\n"
          ]
        }
      ]
    },
    {
      "cell_type": "code",
      "source": [
        "M = np.eye(11)-P\n",
        "print(M)"
      ],
      "metadata": {
        "colab": {
          "base_uri": "https://localhost:8080/"
        },
        "id": "-E7nQH4tLWvD",
        "outputId": "296f9035-392b-481f-ea08-21e3e9270577"
      },
      "execution_count": 23,
      "outputs": [
        {
          "output_type": "stream",
          "name": "stdout",
          "text": [
            "[[ 0.   0.   0.   0.   0.   0.   0.   0.   0.   0.   0. ]\n",
            " [-0.5  1.  -0.5  0.   0.   0.   0.   0.   0.   0.   0. ]\n",
            " [ 0.  -0.5  1.  -0.5  0.   0.   0.   0.   0.   0.   0. ]\n",
            " [ 0.   0.  -0.5  1.  -0.5  0.   0.   0.   0.   0.   0. ]\n",
            " [ 0.   0.   0.  -0.5  1.  -0.5  0.   0.   0.   0.   0. ]\n",
            " [ 0.   0.   0.   0.  -0.5  1.  -0.5  0.   0.   0.   0. ]\n",
            " [ 0.   0.   0.   0.   0.  -0.5  1.  -0.5  0.   0.   0. ]\n",
            " [ 0.   0.   0.   0.   0.   0.  -0.5  1.  -0.5  0.   0. ]\n",
            " [ 0.   0.   0.   0.   0.   0.   0.  -0.5  1.  -0.5  0. ]\n",
            " [ 0.   0.   0.   0.   0.   0.   0.   0.  -0.5  1.  -0.5]\n",
            " [ 0.   0.   0.   0.   0.   0.   0.   0.   0.   0.   0. ]]\n"
          ]
        }
      ]
    },
    {
      "cell_type": "code",
      "source": [
        "v = np.ones(N_target+1)\n",
        "v[0] = 0\n",
        "v[N_target] = 0\n",
        "print(v)"
      ],
      "metadata": {
        "colab": {
          "base_uri": "https://localhost:8080/"
        },
        "id": "CXT-AFB3K0WU",
        "outputId": "8773b36f-de25-47eb-b916-bc8d5e023233"
      },
      "execution_count": 22,
      "outputs": [
        {
          "output_type": "stream",
          "name": "stdout",
          "text": [
            "[0. 1. 1. 1. 1. 1. 1. 1. 1. 1. 0.]\n"
          ]
        }
      ]
    },
    {
      "cell_type": "code",
      "source": [
        "jnp.linalg.solve(M,v)"
      ],
      "metadata": {
        "colab": {
          "base_uri": "https://localhost:8080/"
        },
        "id": "-fKR2LfDLLsq",
        "outputId": "c258a54e-bcde-4a20-ae8c-46ef2b1b7bb9"
      },
      "execution_count": 24,
      "outputs": [
        {
          "output_type": "execute_result",
          "data": {
            "text/plain": [
              "DeviceArray([nan, nan, nan, nan, nan, nan, nan, nan, nan, nan, nan], dtype=float32)"
            ]
          },
          "metadata": {},
          "execution_count": 24
        }
      ]
    },
    {
      "cell_type": "code",
      "source": [
        "M_modified = M\n",
        "M_modified[0,0]=1\n",
        "M_modified[N_target,N_target]=1\n",
        "print(M_modified)"
      ],
      "metadata": {
        "colab": {
          "base_uri": "https://localhost:8080/"
        },
        "id": "1iVbR9jeLkDm",
        "outputId": "a09eafb3-5fe5-444b-c535-9ddb4fe0f585"
      },
      "execution_count": 25,
      "outputs": [
        {
          "output_type": "stream",
          "name": "stdout",
          "text": [
            "[[ 1.   0.   0.   0.   0.   0.   0.   0.   0.   0.   0. ]\n",
            " [-0.5  1.  -0.5  0.   0.   0.   0.   0.   0.   0.   0. ]\n",
            " [ 0.  -0.5  1.  -0.5  0.   0.   0.   0.   0.   0.   0. ]\n",
            " [ 0.   0.  -0.5  1.  -0.5  0.   0.   0.   0.   0.   0. ]\n",
            " [ 0.   0.   0.  -0.5  1.  -0.5  0.   0.   0.   0.   0. ]\n",
            " [ 0.   0.   0.   0.  -0.5  1.  -0.5  0.   0.   0.   0. ]\n",
            " [ 0.   0.   0.   0.   0.  -0.5  1.  -0.5  0.   0.   0. ]\n",
            " [ 0.   0.   0.   0.   0.   0.  -0.5  1.  -0.5  0.   0. ]\n",
            " [ 0.   0.   0.   0.   0.   0.   0.  -0.5  1.  -0.5  0. ]\n",
            " [ 0.   0.   0.   0.   0.   0.   0.   0.  -0.5  1.  -0.5]\n",
            " [ 0.   0.   0.   0.   0.   0.   0.   0.   0.   0.   1. ]]\n"
          ]
        }
      ]
    },
    {
      "cell_type": "code",
      "source": [
        "jnp.linalg.solve(M_modified,v)"
      ],
      "metadata": {
        "colab": {
          "base_uri": "https://localhost:8080/"
        },
        "id": "dddgmS4CLthF",
        "outputId": "8b54418d-0591-41d4-abe3-78a42d39e49f"
      },
      "execution_count": 26,
      "outputs": [
        {
          "output_type": "execute_result",
          "data": {
            "text/plain": [
              "DeviceArray([ 0.,  9., 16., 21., 24., 25., 24., 21., 16.,  9.,  0.], dtype=float32)"
            ]
          },
          "metadata": {},
          "execution_count": 26
        }
      ]
    }
  ]
}