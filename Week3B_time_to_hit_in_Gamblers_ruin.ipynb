{
  "nbformat": 4,
  "nbformat_minor": 0,
  "metadata": {
    "colab": {
      "name": "Week3B_time_to_hit_in_Gamblers_ruin.ipynb",
      "provenance": [],
      "authorship_tag": "ABX9TyNr02Wb4RPQnwSdyzeC5wLD",
      "include_colab_link": true
    },
    "kernelspec": {
      "name": "python3",
      "display_name": "Python 3"
    },
    "language_info": {
      "name": "python"
    }
  },
  "cells": [
    {
      "cell_type": "markdown",
      "metadata": {
        "id": "view-in-github",
        "colab_type": "text"
      },
      "source": [
        "<a href=\"https://colab.research.google.com/github/mcnica89/MATH4060/blob/main/Week3B_time_to_hit_in_Gamblers_ruin.ipynb\" target=\"_parent\"><img src=\"https://colab.research.google.com/assets/colab-badge.svg\" alt=\"Open In Colab\"/></a>"
      ]
    },
    {
      "cell_type": "code",
      "execution_count": 41,
      "metadata": {
        "id": "9NxVB-9kKh-y"
      },
      "outputs": [],
      "source": [
        "import itertools\n",
        "import jax.numpy as jnp\n",
        "import matplotlib.pyplot as plt\n",
        "from jax import random as jrandom\n",
        "from jax import nn as jnn\n",
        "from jax import jit\n",
        "import random\n",
        "import time\n",
        "import timeit\n",
        "import math\n",
        "import numpy as np\n",
        "\n",
        "plt.rc('xtick', labelsize=15) \n",
        "plt.rc('ytick', labelsize=15)\n",
        "font = {'size'   : 20}\n",
        "\n",
        "plt.rc('font', **font)\n",
        "\n",
        "jnp.set_printoptions(precision=3,suppress=True)"
      ]
    },
    {
      "cell_type": "code",
      "source": [
        "def gamblers_ruin_matrix(N_target):\n",
        "  transition_matrix = np.zeros((N_target+1,N_target+1))\n",
        "  i,j = np.indices(transition_matrix.shape)\n",
        "  transition_matrix[i==j-1] = 0.5\n",
        "  transition_matrix[i==j+1] = 0.5\n",
        "\n",
        "  transition_matrix[0,0] = 1\n",
        "  transition_matrix[0,1] = 0\n",
        "  \n",
        "  transition_matrix[N_target,N_target] = 1\n",
        "  transition_matrix[N_target,N_target-1] = 0\n",
        "  \n",
        "  return transition_matrix"
      ],
      "metadata": {
        "id": "PyWcDd9MKjeB"
      },
      "execution_count": 42,
      "outputs": []
    },
    {
      "cell_type": "code",
      "source": [
        "N_target = 10"
      ],
      "metadata": {
        "id": "yHkBVMv0LeUq"
      },
      "execution_count": 43,
      "outputs": []
    },
    {
      "cell_type": "code",
      "source": [
        "P = gamblers_ruin_matrix(N_target)\n",
        "print(P)"
      ],
      "metadata": {
        "colab": {
          "base_uri": "https://localhost:8080/"
        },
        "id": "1wjbXfO4KoLv",
        "outputId": "44c8c7e4-715f-49af-e011-ad4966817463"
      },
      "execution_count": 44,
      "outputs": [
        {
          "output_type": "stream",
          "name": "stdout",
          "text": [
            "[[1.  0.  0.  0.  0.  0.  0.  0.  0.  0.  0. ]\n",
            " [0.5 0.  0.5 0.  0.  0.  0.  0.  0.  0.  0. ]\n",
            " [0.  0.5 0.  0.5 0.  0.  0.  0.  0.  0.  0. ]\n",
            " [0.  0.  0.5 0.  0.5 0.  0.  0.  0.  0.  0. ]\n",
            " [0.  0.  0.  0.5 0.  0.5 0.  0.  0.  0.  0. ]\n",
            " [0.  0.  0.  0.  0.5 0.  0.5 0.  0.  0.  0. ]\n",
            " [0.  0.  0.  0.  0.  0.5 0.  0.5 0.  0.  0. ]\n",
            " [0.  0.  0.  0.  0.  0.  0.5 0.  0.5 0.  0. ]\n",
            " [0.  0.  0.  0.  0.  0.  0.  0.5 0.  0.5 0. ]\n",
            " [0.  0.  0.  0.  0.  0.  0.  0.  0.5 0.  0.5]\n",
            " [0.  0.  0.  0.  0.  0.  0.  0.  0.  0.  1. ]]\n"
          ]
        }
      ]
    },
    {
      "cell_type": "code",
      "source": [
        "M = np.eye(11)-P\n",
        "print(M)"
      ],
      "metadata": {
        "colab": {
          "base_uri": "https://localhost:8080/"
        },
        "id": "-E7nQH4tLWvD",
        "outputId": "6b8b8cb1-a360-4187-83ae-392b5f2d7185"
      },
      "execution_count": 45,
      "outputs": [
        {
          "output_type": "stream",
          "name": "stdout",
          "text": [
            "[[ 0.   0.   0.   0.   0.   0.   0.   0.   0.   0.   0. ]\n",
            " [-0.5  1.  -0.5  0.   0.   0.   0.   0.   0.   0.   0. ]\n",
            " [ 0.  -0.5  1.  -0.5  0.   0.   0.   0.   0.   0.   0. ]\n",
            " [ 0.   0.  -0.5  1.  -0.5  0.   0.   0.   0.   0.   0. ]\n",
            " [ 0.   0.   0.  -0.5  1.  -0.5  0.   0.   0.   0.   0. ]\n",
            " [ 0.   0.   0.   0.  -0.5  1.  -0.5  0.   0.   0.   0. ]\n",
            " [ 0.   0.   0.   0.   0.  -0.5  1.  -0.5  0.   0.   0. ]\n",
            " [ 0.   0.   0.   0.   0.   0.  -0.5  1.  -0.5  0.   0. ]\n",
            " [ 0.   0.   0.   0.   0.   0.   0.  -0.5  1.  -0.5  0. ]\n",
            " [ 0.   0.   0.   0.   0.   0.   0.   0.  -0.5  1.  -0.5]\n",
            " [ 0.   0.   0.   0.   0.   0.   0.   0.   0.   0.   0. ]]\n"
          ]
        }
      ]
    },
    {
      "cell_type": "code",
      "source": [
        "v = np.ones(N_target+1)\n",
        "v[0] = 0\n",
        "v[N_target] = 0\n",
        "print(v)"
      ],
      "metadata": {
        "colab": {
          "base_uri": "https://localhost:8080/"
        },
        "id": "CXT-AFB3K0WU",
        "outputId": "4f12690b-7e02-4679-e00f-87e6db29374d"
      },
      "execution_count": 46,
      "outputs": [
        {
          "output_type": "stream",
          "name": "stdout",
          "text": [
            "[0. 1. 1. 1. 1. 1. 1. 1. 1. 1. 0.]\n"
          ]
        }
      ]
    },
    {
      "cell_type": "code",
      "source": [
        "jnp.linalg.solve(M,v)"
      ],
      "metadata": {
        "colab": {
          "base_uri": "https://localhost:8080/"
        },
        "id": "-fKR2LfDLLsq",
        "outputId": "68d630ca-0f34-4976-c60c-fa442b05ff04"
      },
      "execution_count": 47,
      "outputs": [
        {
          "output_type": "execute_result",
          "data": {
            "text/plain": [
              "DeviceArray([nan, nan, nan, nan, nan, nan, nan, nan, nan, nan, nan], dtype=float32)"
            ]
          },
          "metadata": {},
          "execution_count": 47
        }
      ]
    },
    {
      "cell_type": "code",
      "source": [
        "M_modified = M\n",
        "M_modified[0,0]=1\n",
        "M_modified[N_target,N_target]=1\n",
        "print(M_modified)"
      ],
      "metadata": {
        "colab": {
          "base_uri": "https://localhost:8080/"
        },
        "id": "1iVbR9jeLkDm",
        "outputId": "0c09ec8e-c84c-43be-acf6-0010f0dce409"
      },
      "execution_count": 48,
      "outputs": [
        {
          "output_type": "stream",
          "name": "stdout",
          "text": [
            "[[ 1.   0.   0.   0.   0.   0.   0.   0.   0.   0.   0. ]\n",
            " [-0.5  1.  -0.5  0.   0.   0.   0.   0.   0.   0.   0. ]\n",
            " [ 0.  -0.5  1.  -0.5  0.   0.   0.   0.   0.   0.   0. ]\n",
            " [ 0.   0.  -0.5  1.  -0.5  0.   0.   0.   0.   0.   0. ]\n",
            " [ 0.   0.   0.  -0.5  1.  -0.5  0.   0.   0.   0.   0. ]\n",
            " [ 0.   0.   0.   0.  -0.5  1.  -0.5  0.   0.   0.   0. ]\n",
            " [ 0.   0.   0.   0.   0.  -0.5  1.  -0.5  0.   0.   0. ]\n",
            " [ 0.   0.   0.   0.   0.   0.  -0.5  1.  -0.5  0.   0. ]\n",
            " [ 0.   0.   0.   0.   0.   0.   0.  -0.5  1.  -0.5  0. ]\n",
            " [ 0.   0.   0.   0.   0.   0.   0.   0.  -0.5  1.  -0.5]\n",
            " [ 0.   0.   0.   0.   0.   0.   0.   0.   0.   0.   1. ]]\n"
          ]
        }
      ]
    },
    {
      "cell_type": "code",
      "source": [
        "jnp.linalg.solve(M_modified,v)"
      ],
      "metadata": {
        "colab": {
          "base_uri": "https://localhost:8080/"
        },
        "id": "dddgmS4CLthF",
        "outputId": "8b54418d-0591-41d4-abe3-78a42d39e49f"
      },
      "execution_count": 26,
      "outputs": [
        {
          "output_type": "execute_result",
          "data": {
            "text/plain": [
              "DeviceArray([ 0.,  9., 16., 21., 24., 25., 24., 21., 16.,  9.,  0.], dtype=float32)"
            ]
          },
          "metadata": {},
          "execution_count": 26
        }
      ]
    },
    {
      "cell_type": "code",
      "source": [
        "#Estimate using (1-x)^{-1} = 1+x+x^2+x^3...\n",
        "jnp.set_printoptions(precision=2,suppress=True)\n",
        "N_terms = 200\n",
        "ans = np.zeros(N_target+1)\n",
        "Ppower_v = v #Terms of the from P^n (v), starts at P^0 v = v\n",
        "for i in range(N_terms):\n",
        "  ans += Ppower_v\n",
        "  Ppower_v = np.matmul(P,Ppower_v) #Update P^{n+1} = P (P^n v)\n",
        "  if i%10 == 0:\n",
        "    print(\"After \", i, \" terms:\\n\", ans)\n"
      ],
      "metadata": {
        "colab": {
          "base_uri": "https://localhost:8080/"
        },
        "id": "xBTSmMKwWEA1",
        "outputId": "98ba67a6-9cba-4b72-b3bc-977a00f2f7be"
      },
      "execution_count": 57,
      "outputs": [
        {
          "output_type": "stream",
          "name": "stdout",
          "text": [
            "After  0  terms:\n",
            " [0. 1. 1. 1. 1. 1. 1. 1. 1. 1. 0.]\n",
            "After  10  terms:\n",
            " [ 0.    4.41  7.26  8.99  9.86 10.16  9.86  8.99  7.26  4.41  0.  ]\n",
            "After  20  terms:\n",
            " [ 0.    6.22 10.71 13.73 15.44 16.01 15.44 13.73 10.71  6.22  0.  ]\n",
            "After  30  terms:\n",
            " [ 0.    7.32 12.8  16.6  18.82 19.56 18.82 16.6  12.8   7.32  0.  ]\n",
            "After  40  terms:\n",
            " [ 0.    7.98 14.06 18.33 20.86 21.71 20.86 18.33 14.06  7.98  0.  ]\n",
            "After  50  terms:\n",
            " [ 0.    8.38 14.83 19.39 22.1  23.01 22.1  19.39 14.83  8.38  0.  ]\n",
            "After  60  terms:\n",
            " [ 0.    8.63 15.29 20.02 22.85 23.79 22.85 20.02 15.29  8.63  0.  ]\n",
            "After  70  terms:\n",
            " [ 0.    8.77 15.57 20.41 23.3  24.27 23.3  20.41 15.57  8.77  0.  ]\n",
            "After  80  terms:\n",
            " [ 0.    8.86 15.74 20.64 23.58 24.56 23.58 20.64 15.74  8.86  0.  ]\n",
            "After  90  terms:\n",
            " [ 0.    8.92 15.84 20.78 23.74 24.73 23.74 20.78 15.84  8.92  0.  ]\n",
            "After  100  terms:\n",
            " [ 0.    8.95 15.9  20.87 23.85 24.84 23.85 20.87 15.9   8.95  0.  ]\n",
            "After  110  terms:\n",
            " [ 0.    8.97 15.94 20.92 23.91 24.9  23.91 20.92 15.94  8.97  0.  ]\n",
            "After  120  terms:\n",
            " [ 0.    8.98 15.96 20.95 23.94 24.94 23.94 20.95 15.96  8.98  0.  ]\n",
            "After  130  terms:\n",
            " [ 0.    8.99 15.98 20.97 23.97 24.96 23.97 20.97 15.98  8.99  0.  ]\n",
            "After  140  terms:\n",
            " [ 0.    8.99 15.99 20.98 23.98 24.98 23.98 20.98 15.99  8.99  0.  ]\n",
            "After  150  terms:\n",
            " [ 0.    9.   15.99 20.99 23.99 24.99 23.99 20.99 15.99  9.    0.  ]\n",
            "After  160  terms:\n",
            " [ 0.    9.   16.   20.99 23.99 24.99 23.99 20.99 16.    9.    0.  ]\n",
            "After  170  terms:\n",
            " [ 0.  9. 16. 21. 24. 25. 24. 21. 16.  9.  0.]\n",
            "After  180  terms:\n",
            " [ 0.  9. 16. 21. 24. 25. 24. 21. 16.  9.  0.]\n",
            "After  190  terms:\n",
            " [ 0.  9. 16. 21. 24. 25. 24. 21. 16.  9.  0.]\n"
          ]
        }
      ]
    }
  ]
}