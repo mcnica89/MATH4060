{
  "nbformat": 4,
  "nbformat_minor": 0,
  "metadata": {
    "colab": {
      "name": "Week 6C Live Coding SARSA on Gamblers Problem.ipynb",
      "provenance": [],
      "authorship_tag": "ABX9TyMwncDJ8Jq9nLpuxAnwInDw",
      "include_colab_link": true
    },
    "kernelspec": {
      "name": "python3",
      "display_name": "Python 3"
    },
    "language_info": {
      "name": "python"
    }
  },
  "cells": [
    {
      "cell_type": "markdown",
      "metadata": {
        "id": "view-in-github",
        "colab_type": "text"
      },
      "source": [
        "<a href=\"https://colab.research.google.com/github/mcnica89/MATH4060/blob/main/Week_6C_Live_Coding_SARSA_on_Gamblers_Problem.ipynb\" target=\"_parent\"><img src=\"https://colab.research.google.com/assets/colab-badge.svg\" alt=\"Open In Colab\"/></a>"
      ]
    },
    {
      "cell_type": "code",
      "execution_count": 4,
      "metadata": {
        "id": "u4AL5pgYWO6S"
      },
      "outputs": [],
      "source": [
        "import numpy as np\n",
        "import matplotlib.pyplot as plt\n",
        "import random"
      ]
    },
    {
      "cell_type": "code",
      "source": [
        "def plot_value_function_and_actions(v_star, a_star):\n",
        "  #Purpose:\n",
        "  #  Plot v_star and a_star for the Gambler's problem\n",
        "  #Output:\n",
        "  #  A plot of the simple random walks \n",
        "\n",
        "\n",
        "  fig, ax = plt.subplots()  # Create a figure containing a single axes.\n",
        "  ax.axhline(0,color='black',linestyle='dashed')\n",
        "  ax.axhline(1,color='black',linestyle='dashed')\n",
        "  ax.set_title(\"Value function\")\n",
        "  ax.set_xlabel(\"State ($)\")\n",
        "  ax.set_ylabel(\"Value (Probability to win)\")\n",
        "\n",
        "  #ax.set(ylim=(-2*math.sqrt(N_steps),2*math.sqrt(N_steps)))\n",
        "\n",
        "  #print(\"Generating random walks....\")\n",
        "  #random_walks = generate_simple_random_walk(random_key,N_steps,N_samples)\n",
        "  #print(\"Plotting random walks....\")\n",
        "  ax.plot(v_star,linewidth=2, alpha=0.75, color='blue')  # Plot some data on the axes.\n",
        "  \n",
        "  fig2, ax2 = plt.subplots()  # Create a figure containing a single axes.\n",
        "  ax2.set_title(\"Optimal bet\")\n",
        "  ax2.set_xlabel(\"State ($)\")\n",
        "  ax2.set_ylabel(\"Size of the optimal bet\")\n",
        "\n",
        "\n",
        "  ax2.plot(a_star,linewidth=2, alpha=0.75, color='red')  # Plot some data on the axes.\n",
        "\n",
        "  plt.show()"
      ],
      "metadata": {
        "id": "0TU3FK-IWRQD"
      },
      "execution_count": 2,
      "outputs": []
    },
    {
      "cell_type": "code",
      "source": [
        "def gamblers_problem_nextstate(p_win, current_state, action):\n",
        "  '''Returns the next state (its random!) given the current_state and action you chose'''\n",
        "\n",
        "  #p_win is a secret number (unknown to the SARSA user) that is your probability to win\n",
        "  win = (random.random() < p_win)\n",
        "  if win == True:\n",
        "    return current_state + action\n",
        "  else:\n",
        "    return current_state - action \n"
      ],
      "metadata": {
        "id": "OedgUev7WmE4"
      },
      "execution_count": 23,
      "outputs": []
    },
    {
      "cell_type": "code",
      "source": [
        "def gamblers_problem_epsilon_greedy(s, q, epsilon, N_target):\n",
        "  '''Return the action dertermined from the q function from current_state using the epsilon-greedy algorthm'''\n",
        "  #This sis the line from the pseudocode that says \"Choose A from S using policy derived from Q (e.g. epsilond greedy)\"\n",
        "\n",
        "  probability_epsilon_event = (random.random() < epsilon)\n",
        "  \n",
        "  max_bet =  min(s,N_target-s)\n",
        "\n",
        "  if s == 0 or s==N_target:\n",
        "    return 1 #Handles the corner case when max_bet would be 0\n",
        "\n",
        "  if probability_epsilon_event == True:  \n",
        "    return random.randint(1,max_bet) #Purely random\n",
        "  else:\n",
        "    return np.argmax(q[s,0:max_bet+1]) #Purely greedy"
      ],
      "metadata": {
        "id": "Ndxa0udDX6IV"
      },
      "execution_count": 37,
      "outputs": []
    },
    {
      "cell_type": "code",
      "source": [
        "def gamblers_problem(p_heads, N_target, num_episodes=10):\n",
        "  '''Return the optimal value function and optimal policy for Gamblers problem using SARSA'''\n",
        "  #Note: p_heads is a secret! Not allowed to know the value of p_heads!!!!!\n",
        "  #q_star = np.random.rand(N_target+1,N_target)\n",
        "  q_star = np.zeros((N_target+1,N_target))\n",
        "  for s in range(N_target+1):\n",
        "    for a in range(N_target):\n",
        "      if a <= min(s,N_target-s):\n",
        "        q_star[s,a] = 0.5\n",
        "  \n",
        "  #q_star(s,a) is the value function if you play action a from state s\n",
        "  # and then play optimally afterwards\n",
        "  # The s-th, a-th entry of q_star represents q_star(s,a)\n",
        "  # Be careful! q_star(s,a) only makes sense if a is less than max_bet at s\n",
        "  # Max_bet(s) = min(s,N_target-s)\n",
        "\n",
        "  #Hardcode the fact that the reward at N_target is 1\n",
        "  q_star[N_target,:] = 1\n",
        "  q_star[0,:] = 0\n",
        "\n",
        "  for episode in range(num_episodes):\n",
        "    if episode % int(num_episodes/10) == 0:\n",
        "      print(\"Iteration number: \", episode)\n",
        "    epsilon = 10/np.sqrt(episode+1)\n",
        "    learning_rate = 1/np.sqrt(episode+1)\n",
        "    current_state = random.randint(1,N_target-1)\n",
        "\n",
        "    while current_state > 0 and current_state < N_target:\n",
        "      current_action = gamblers_problem_epsilon_greedy(current_state, q_star, epsilon, N_target)\n",
        "      new_state = gamblers_problem_nextstate(p_heads, current_state, current_action)\n",
        "      reward = 0 #The reward is always 0 in the Gambler's problem except for the terminal state at N_target\n",
        "      new_action = gamblers_problem_epsilon_greedy(new_state, q_star, epsilon, N_target)\n",
        "\n",
        "      q_star[current_state,current_action] += learning_rate*(q_star[new_state,new_action] - q_star[current_state,current_action])\n",
        "\n",
        "      current_state = new_state\n",
        "\n",
        "  v_star = np.max(q_star,axis=1)\n",
        "  a_star = np.argmax(q_star,axis=1)\n",
        "  plot_value_function_and_actions(v_star,a_star)\n",
        "  return v_star, a_star"
      ],
      "metadata": {
        "id": "DtDxz0GQWXM_"
      },
      "execution_count": 93,
      "outputs": []
    },
    {
      "cell_type": "code",
      "source": [
        "gamblers_problem(0.3, 13, 400000)"
      ],
      "metadata": {
        "colab": {
          "base_uri": "https://localhost:8080/",
          "height": 829
        },
        "id": "YlvUrJkjeBlz",
        "outputId": "6e937572-349d-42e9-f670-3d0949cc6d92"
      },
      "execution_count": 94,
      "outputs": [
        {
          "output_type": "stream",
          "name": "stdout",
          "text": [
            "Iteration number:  0\n",
            "Iteration number:  40000\n",
            "Iteration number:  80000\n",
            "Iteration number:  120000\n",
            "Iteration number:  160000\n",
            "Iteration number:  200000\n",
            "Iteration number:  240000\n",
            "Iteration number:  280000\n",
            "Iteration number:  320000\n",
            "Iteration number:  360000\n"
          ]
        },
        {
          "output_type": "display_data",
          "data": {
            "image/png": "[encoded data removed]",
            "text/plain": [
              "<Figure size 432x288 with 1 Axes>"
            ]
          },
          "metadata": {
            "needs_background": "light"
          }
        },
        {
          "output_type": "display_data",
          "data": {
            "image/png": "[encoded data removed]",
            "text/plain": [
              "<Figure size 432x288 with 1 Axes>"
            ]
          },
          "metadata": {
            "needs_background": "light"
          }
        },
        {
          "output_type": "execute_result",
          "data": {
            "text/plain": [
              "(array([0.        , 0.00844289, 0.02859009, 0.06332269, 0.09621636,\n",
              "        0.15104401, 0.20203389, 0.31380022, 0.33183163, 0.38261017,\n",
              "        0.52030108, 0.56329106, 0.69601048, 1.        ]),\n",
              " array([0, 1, 2, 3, 4, 5, 1, 6, 1, 1, 3, 1, 1, 0]))"
            ]
          },
          "metadata": {},
          "execution_count": 94
        }
      ]
    },
    {
      "cell_type": "code",
      "source": [
        "random.random()"
      ],
      "metadata": {
        "colab": {
          "base_uri": "https://localhost:8080/"
        },
        "id": "QODrPEUDXDTO",
        "outputId": "cc24c72f-91a3-42a2-c3cf-309513c372d0"
      },
      "execution_count": 14,
      "outputs": [
        {
          "output_type": "execute_result",
          "data": {
            "text/plain": [
              "0.17161450402322298"
            ]
          },
          "metadata": {},
          "execution_count": 14
        }
      ]
    }
  ]
}