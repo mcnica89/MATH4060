{
  "nbformat": 4,
  "nbformat_minor": 0,
  "metadata": {
    "colab": {
      "provenance": [],
      "authorship_tag": "ABX9TyNnRZgoWyEBdiF+6ruFop+j",
      "include_colab_link": true
    },
    "kernelspec": {
      "name": "python3",
      "display_name": "Python 3"
    },
    "language_info": {
      "name": "python"
    }
  },
  "cells": [
    {
      "cell_type": "markdown",
      "metadata": {
        "id": "view-in-github",
        "colab_type": "text"
      },
      "source": [
        "<a href=\"https://colab.research.google.com/github/mcnica89/MATH4060/blob/main/Cant_Stop_Tournament_ELO_maker.ipynb\" target=\"_parent\"><img src=\"https://colab.research.google.com/assets/colab-badge.svg\" alt=\"Open In Colab\"/></a>"
      ]
    },
    {
      "cell_type": "code",
      "source": [
        "import jax.numpy as jnp\n",
        "import pandas as pd\n",
        "import jax"
      ],
      "metadata": {
        "id": "ejkLyIOpOpRX"
      },
      "execution_count": null,
      "outputs": []
    },
    {
      "cell_type": "code",
      "execution_count": null,
      "metadata": {
        "colab": {
          "base_uri": "https://localhost:8080/"
        },
        "id": "Y7lO-opgNxd6",
        "outputId": "e0297b50-9e9f-4fa4-e96b-c3d19698fc9a"
      },
      "outputs": [
        {
          "output_type": "stream",
          "name": "stderr",
          "text": [
            "WARNING:absl:No GPU/TPU found, falling back to CPU. (Set TF_CPP_MIN_LOG_LEVEL=0 and rerun for more info.)\n"
          ]
        }
      ],
      "source": [
        "x = jnp.array([\n",
        "[ 0.,           77.4597168, 62.62817383, 54.9621582,  39.30664062, 46.08764648, 46.77124023, 71.23413086, 35.88867188, 34.41772461],\n",
        " [26.02539062,   0.       , 48.44970703, 32.8704834,  27.85644531, 36.22436523, 33.58154297, 54.63867188, 20.67260742, 19.08569336],\n",
        " [42.34008789, 55.75561523, 0.         , 40.3503418,  37.97607422, 47.34497070,  42.88330078, 51.4831543,  32.76977539, 27.33154297],\n",
        " [52.29492188, 71.46606445, 62.27416992,  0.       ,  51.84936523, 57.92846680,  46.00219727, 67.20275879, 40.92407227, 36.88354492],\n",
        " [72.33886719, 77.62451172, 66.27197266, 59.05151367, 0.         , 74.90844727, 63.16528320, 67.41333008, 50.57983398, 57.33642578],\n",
        " [66.07055664, 68.98803711, 58.38012695, 49.67651367, 34.38110352,  0.        , 51.01013184, 62.27416992, 41.76635742, 35.96801758],\n",
        " [60.77880859, 69.98901367, 62.60986328, 59.12475586, 45.00427246, 55.60913086, 0.        , 64.72167969, 45.09887695, 49.48120117],\n",
        " [34.13085938, 48.38867188, 51.08642578, 36.04125977, 35.86425781, 43.34106445, 40.27099609,  0.        , 25.2746582,  21.5423584 ],\n",
        " [72.03979492, 82.67211914, 72.14355469, 66.36352539, 57.75146484, 66.54663086, 61.03515625, 77.62451172,  0.        , 56.76269531],\n",
        " [74.76196289, 83.40759277, 74.67041016, 70.23620605, 54.31518555, 74.32861328, 56.5612793,  80.53894043, 52.87475586,  0.        ]])\n",
        "\n",
        "asymmetric_tournament_results = x/100\n",
        "\n",
        "symmetric_tournament_results = 0.5*(x + (100-x).T)/100"
      ]
    },
    {
      "cell_type": "code",
      "source": [
        "runner_weights_winrate = symmetric_tournament_results.T[0]"
      ],
      "metadata": {
        "id": "RI8SJ_lV3NvA"
      },
      "execution_count": null,
      "outputs": []
    },
    {
      "cell_type": "code",
      "source": [
        "print(symmetric_tournament_results)"
      ],
      "metadata": {
        "colab": {
          "base_uri": "https://localhost:8080/"
        },
        "id": "38ycvJ4UbhBp",
        "outputId": "31acca03-545d-4473-b1e3-f6fb6d349f23"
      },
      "execution_count": null,
      "outputs": [
        {
          "output_type": "stream",
          "name": "stdout",
          "text": [
            "[[0.5        0.75717163 0.6014404  0.5133362  0.33483887 0.40008545\n",
            "  0.42996216 0.68551636 0.31924438 0.2982788 ]\n",
            " [0.24282837 0.5        0.46347046 0.3070221  0.25115967 0.33618164\n",
            "  0.31796265 0.53125    0.19000244 0.1783905 ]\n",
            " [0.39855957 0.53652954 0.5        0.39038086 0.3585205  0.44482422\n",
            "  0.4013672  0.50198364 0.3031311  0.26330566]\n",
            " [0.48666382 0.6929779  0.60961914 0.5        0.46398926 0.54125977\n",
            "  0.4343872  0.6558075  0.37280273 0.3332367 ]\n",
            " [0.66516113 0.74884033 0.6414795  0.53601074 0.5        0.7026367\n",
            "  0.59080505 0.65774536 0.46414185 0.5151062 ]\n",
            " [0.59991455 0.66381836 0.5551758  0.45874023 0.29736328 0.5\n",
            "  0.477005   0.5946655  0.37609863 0.30819702]\n",
            " [0.57003784 0.68203735 0.5986328  0.5656128  0.40919495 0.522995\n",
            "  0.5        0.6222534  0.4203186  0.4645996 ]\n",
            " [0.31448364 0.46875    0.49801636 0.3441925  0.34225464 0.40533447\n",
            "  0.37774658 0.5        0.23825073 0.20501709]\n",
            " [0.6807556  0.80999756 0.6968689  0.62719727 0.53585815 0.62390137\n",
            "  0.5796814  0.76174927 0.5        0.5194397 ]\n",
            " [0.7017212  0.8216095  0.73669434 0.6667633  0.4848938  0.691803\n",
            "  0.5354004  0.7949829  0.4805603  0.5       ]]\n"
          ]
        }
      ]
    },
    {
      "cell_type": "code",
      "source": [
        "df = pd.DataFrame(asymmetric_tournament_results)"
      ],
      "metadata": {
        "id": "_2l67GRpUdvv"
      },
      "execution_count": null,
      "outputs": []
    },
    {
      "cell_type": "code",
      "source": [
        "df = pd.DataFrame (symmetric_tournament_results)"
      ],
      "metadata": {
        "id": "iJTGsJR7PDcq"
      },
      "execution_count": null,
      "outputs": []
    },
    {
      "cell_type": "markdown",
      "source": [
        "# ELO Scores"
      ],
      "metadata": {
        "id": "ewgG9zaSbMAo"
      }
    },
    {
      "cell_type": "markdown",
      "source": [
        "The ELO formula for the expected score for player $A$ when the ratings are $R_A$ and $R_B$ is (from Wikipedia: https://en.wikipedia.org/wiki/Elo_rating_system#Mathematical_details)\n",
        "\n",
        "$$E_{A}= \\frac{1}{ 1+10^{ (R_B-R_A )/400 }   }$$"
      ],
      "metadata": {
        "id": "Jwoe1SLXW119"
      }
    },
    {
      "cell_type": "code",
      "source": [
        "@jax.jit\n",
        "def expected_scores(ELO_ratings):\n",
        "  #Input: Elo vector of size (N,)\n",
        "  #Output: An (N,N) matrix with the expected tournament scores according to the ELO formula\n",
        "  return 1/(1+jnp.power(10, (ELO_ratings[jnp.newaxis,:] - ELO_ratings[:,jnp.newaxis]) /400)) "
      ],
      "metadata": {
        "id": "XV7URwUuWVsS"
      },
      "execution_count": null,
      "outputs": []
    },
    {
      "cell_type": "code",
      "source": [
        "ELO_ratings = jnp.array([100,500,900])\n",
        "\n",
        "expected_scores(ELO_ratings)"
      ],
      "metadata": {
        "colab": {
          "base_uri": "https://localhost:8080/"
        },
        "id": "Fzn6R7eiXsdP",
        "outputId": "0e39d85c-3ff8-47f6-ad3d-ba3abcdbca90"
      },
      "execution_count": null,
      "outputs": [
        {
          "output_type": "execute_result",
          "data": {
            "text/plain": [
              "DeviceArray([[0.5       , 0.09090909, 0.00990099],\n",
              "             [0.9090909 , 0.5       , 0.09090909],\n",
              "             [0.990099  , 0.9090909 , 0.5       ]], dtype=float32)"
            ]
          },
          "metadata": {},
          "execution_count": 88
        }
      ]
    },
    {
      "cell_type": "markdown",
      "source": [
        "# Loss functions\n",
        "\n",
        "These are different ways to evaluate how close a set of ELO ratings predicts the actual scores."
      ],
      "metadata": {
        "id": "6cJaTciYEMdU"
      }
    },
    {
      "cell_type": "code",
      "source": [
        "@jax.jit\n",
        "def L2_loss(ELO_ratings,actual_scores):\n",
        "  #The L2 loss of the difference between the expected scores generated by some ELO_ratings and the actual scores\n",
        "  return jnp.mean( (expected_scores(ELO_ratings) - actual_scores)**2 )"
      ],
      "metadata": {
        "id": "EowxhPRXYPud"
      },
      "execution_count": null,
      "outputs": []
    },
    {
      "cell_type": "code",
      "source": [
        "@jax.jit\n",
        "def CE_loss(ELO_ratings, actual_scores):\n",
        "  #Note that we only need to put in the term for phat*log(p), the complementary term is handled at the (j,i) entry of the matrix\n",
        "  return jnp.sum( -actual_scores*jnp.log(expected_scores(ELO_ratings))  )"
      ],
      "metadata": {
        "id": "kjP9Osr6D5Zr"
      },
      "execution_count": null,
      "outputs": []
    },
    {
      "cell_type": "code",
      "source": [
        "@jax.jit\n",
        "def KL_loss(ELO_ratings,actual_scores):\n",
        "  #The L2 loss of the difference between the expected scores generated by some ELO_ratings and the actual scores\n",
        "  pred = expected_scores(ELO_ratings)\n",
        "  return jnp.mean( pred*jnp.log(pred/actual_scores) )\n",
        "\n",
        "grad_KL_loss = jax.jit(jax.grad(KL_loss,argnums=0)) "
      ],
      "metadata": {
        "id": "sEOXJRgCfr1p"
      },
      "execution_count": null,
      "outputs": []
    },
    {
      "cell_type": "code",
      "source": [
        "def tournament_to_ELO(sym_tourny_results, loss_func):\n",
        "  #Given a square matrix M of shape (N,N), compute a vector of size (N,) with the ELO scores for the N players\n",
        "  N = jnp.shape(sym_tourny_results)[0]\n",
        "  grad_loss = jax.jit(jax.grad(loss_func,argnums=0)) \n",
        "  ELO_ratings = jnp.zeros(N)\n",
        "  learning_rate = 100\n",
        "  N_epochs = 100000\n",
        "  for i in range(N_epochs):\n",
        "    ELO_ratings -= learning_rate*grad_loss(ELO_ratings, sym_tourny_results)\n",
        "    if i % (N_epochs//3) == 0:\n",
        "      #learning_rate /= 1.5\n",
        "      print(f\"Epoch {i}:\")\n",
        "      #print(\"ELO ratings:\\n\", ELO_ratings)\n",
        "      print(\"Loss func: \",loss_func(ELO_ratings,sym_tourny_results))\n",
        "\n",
        "  ELO_ratings = ELO_ratings - ELO_ratings[0]\n",
        "\n",
        "  errors = 100*(expected_scores(ELO_ratings) - sym_tourny_results)\n",
        "  print(\"Final percent errors:\\n\", errors )\n",
        "  print(\"Row sums:\\n \", jnp.sum(errors, axis=0))\n",
        "  print(\"Final ELOs:\", ELO_ratings)\n",
        "  return ELO_ratings\n"
      ],
      "metadata": {
        "id": "az0WY0ysV65R"
      },
      "execution_count": null,
      "outputs": []
    },
    {
      "cell_type": "code",
      "source": [
        "runner_weights_winrate = symmetric_tournament_results.T[0]"
      ],
      "metadata": {
        "id": "0qznld7E3MmH"
      },
      "execution_count": null,
      "outputs": []
    },
    {
      "cell_type": "code",
      "source": [
        "jnp.set_printoptions(precision=2)\n",
        "ELO_L2 = tournament_to_ELO(symmetric_tournament_results, L2_loss)"
      ],
      "metadata": {
        "colab": {
          "base_uri": "https://localhost:8080/"
        },
        "id": "AQwiQGN4ZocI",
        "outputId": "9e638e5f-f8b8-464a-b0cc-e3f90754393d"
      },
      "execution_count": null,
      "outputs": [
        {
          "output_type": "stream",
          "name": "stdout",
          "text": [
            "Epoch 0:\n",
            "Loss func:  0.022366151\n",
            "Epoch 33333:\n",
            "Loss func:  0.0018584752\n",
            "Epoch 66666:\n",
            "Loss func:  0.0016589917\n",
            "Epoch 99999:\n",
            "Loss func:  0.0016546207\n",
            "Final percent errors:\n",
            " [[  0.   -10.01  -2.29  -3.97   4.     9.97   1.5   -6.48   2.63   4.18]\n",
            " [ 10.01   0.    -4.61   1.25  -1.28   0.65  -2.3   -7.06   2.6    3.36]\n",
            " [  2.29   4.61   0.     0.55  -5.45  -2.36  -3.27   4.18  -2.53   0.96]\n",
            " [  3.97  -1.25  -0.55   0.    -6.41  -1.51   3.68  -1.05  -0.3    3.1 ]\n",
            " [ -4.     1.28   5.45   6.41   0.    -7.77  -1.87   7.41   0.41  -5.29]\n",
            " [ -9.97  -0.65   2.36   1.51   7.77   0.    -3.19   2.63  -3.03   3.21]\n",
            " [ -1.5    2.3    3.27  -3.68   1.87   3.19   0.     4.9   -2.32  -7.32]\n",
            " [  6.48   7.06  -4.18   1.05  -7.41  -2.63  -4.9    0.     0.57   3.45]\n",
            " [ -2.63  -2.6    2.53   0.3   -0.41   3.03   2.32  -0.57   0.    -2.55]\n",
            " [ -4.18  -3.36  -0.96  -3.1    5.29  -3.21   7.32  -3.45   2.55   0.  ]]\n",
            "Row sums:\n",
            "  [ 0.47 -2.61  1.03  0.32 -2.04 -0.64 -0.72  0.5   0.59  3.1 ]\n",
            "Final ELOs: [   0.   -112.99  -55.05   18.36   88.85    0.16   38.43  -85.57  110.93\n",
            "  115.14]\n"
          ]
        }
      ]
    },
    {
      "cell_type": "code",
      "source": [
        "ELO_KL = tournament_to_ELO(symmetric_tournament_results, KL_loss)"
      ],
      "metadata": {
        "colab": {
          "base_uri": "https://localhost:8080/"
        },
        "id": "w3oyDElfeJE-",
        "outputId": "de6a4394-34fb-47cd-8359-fa2ff6701381"
      },
      "execution_count": null,
      "outputs": [
        {
          "output_type": "stream",
          "name": "stdout",
          "text": [
            "Epoch 0:\n",
            "Loss func:  0.02535717\n",
            "Epoch 33333:\n",
            "Loss func:  0.0019579602\n",
            "Epoch 66666:\n",
            "Loss func:  0.0018236951\n",
            "Epoch 99999:\n",
            "Loss func:  0.0018222706\n",
            "Final percent errors:\n",
            " [[  0.    -9.47  -2.24  -3.86   4.18  10.2    1.69  -6.3    2.65   3.89]\n",
            " [  9.47   0.    -5.14   0.83  -1.58   0.33  -2.64  -7.46   2.22   2.75]\n",
            " [  2.24   5.14   0.     0.61  -5.33  -2.18  -3.14   4.33  -2.56   0.67]\n",
            " [  3.86  -0.83  -0.61   0.    -6.33  -1.39   3.76  -0.97  -0.38   2.7 ]\n",
            " [ -4.18   1.58   5.33   6.33   0.    -7.73  -1.87   7.42   0.24  -5.79]\n",
            " [-10.2   -0.33   2.18   1.39   7.73   0.    -3.23   2.59  -3.22   2.72]\n",
            " [ -1.69   2.64   3.14  -3.76   1.87   3.23   0.     4.9   -2.48  -7.81]\n",
            " [  6.3    7.46  -4.33   0.97  -7.42  -2.59  -4.9    0.     0.44   3.07]\n",
            " [ -2.65  -2.22   2.56   0.38  -0.24   3.22   2.48  -0.44   0.    -2.89]\n",
            " [ -3.89  -2.75  -0.67  -2.7    5.79  -2.72   7.81  -3.07   2.89   0.  ]]\n",
            "Row sums:\n",
            "  [-0.74  1.22  0.22  0.18 -1.32  0.37 -0.04  1.   -0.19 -0.69]\n",
            "Final ELOs: [   0.   -117.11  -55.38   17.6    87.53   -1.46   37.1   -86.94  110.79\n",
            "  117.38]\n"
          ]
        }
      ]
    },
    {
      "cell_type": "code",
      "source": [
        "ELO_CE = tournament_to_ELO(symmetric_tournament_results, CE_loss)"
      ],
      "metadata": {
        "colab": {
          "base_uri": "https://localhost:8080/"
        },
        "id": "w1dQQfPAE7uw",
        "outputId": "a9c71961-cdcd-4c9a-fe5e-c04c6475d222"
      },
      "execution_count": null,
      "outputs": [
        {
          "output_type": "stream",
          "name": "stdout",
          "text": [
            "Epoch 0:\n",
            "Loss func:  34.623154\n",
            "Epoch 33333:\n",
            "Loss func:  32.510326\n",
            "Epoch 66666:\n",
            "Loss func:  32.510326\n",
            "Epoch 99999:\n",
            "Loss func:  32.510326\n",
            "Final percent errors:\n",
            " [[  0.    -9.68  -2.34  -3.96   4.25  10.08   1.62  -6.48   2.61   3.9 ]\n",
            " [  9.68   0.    -5.02   0.94  -1.36   0.43  -2.5   -7.42   2.34   2.91]\n",
            " [  2.34   5.02   0.     0.62  -5.18  -2.19  -3.11   4.24  -2.51   0.76]\n",
            " [  3.96  -0.94  -0.62   0.    -6.17  -1.41   3.78  -1.07  -0.33   2.8 ]\n",
            " [ -4.25   1.36   5.18   6.17   0.    -7.91  -2.01   7.2    0.12  -5.86]\n",
            " [-10.08  -0.43   2.19   1.41   7.91   0.    -3.18   2.52  -3.16   2.83]\n",
            " [ -1.62   2.5    3.11  -3.78   2.01   3.18   0.     4.79  -2.46  -7.74]\n",
            " [  6.48   7.42  -4.24   1.07  -7.2   -2.52  -4.79   0.     0.55   3.22]\n",
            " [ -2.61  -2.34   2.51   0.33  -0.12   3.16   2.46  -0.55   0.    -2.83]\n",
            " [ -3.9   -2.91  -0.76  -2.8    5.86  -2.83   7.74  -3.22   2.83   0.  ]]\n",
            "Row sums:\n",
            "  [-4.41e-05 -6.44e-04 -6.52e-04  3.24e-05  6.11e-04 -3.86e-05  1.25e-04\n",
            " -6.59e-04  5.96e-04  6.41e-04]\n",
            "Final ELOs: [   0.   -115.51  -54.65   18.26   87.02   -0.65   37.58  -85.56  111.11\n",
            "  117.3 ]\n"
          ]
        }
      ]
    },
    {
      "cell_type": "code",
      "source": [
        "df = pd.DataFrame([ELO_L2, ELO_KL, ELO_CE])"
      ],
      "metadata": {
        "id": "H6DFhw8hFCGV"
      },
      "execution_count": null,
      "outputs": []
    },
    {
      "cell_type": "code",
      "source": [
        "df"
      ],
      "metadata": {
        "colab": {
          "base_uri": "https://localhost:8080/",
          "height": 143
        },
        "id": "V08NHZaZFOTI",
        "outputId": "23deac5b-3fb8-4120-edb7-d1ccc8eca42c"
      },
      "execution_count": null,
      "outputs": [
        {
          "output_type": "execute_result",
          "data": {
            "text/plain": [
              "     0            1           2          3         4            5          6  \\\n",
              "0  0.0   -112.98691  -55.051956  18.355057  88.85377   0.16009235  38.426003   \n",
              "1  0.0    -117.1149  -55.381134  17.603731  87.53292   -1.4575672   37.09562   \n",
              "2  0.0  -115.511894  -54.647133  18.261086  87.01673  -0.64810276   37.57982   \n",
              "\n",
              "            7           8           9  \n",
              "0   -85.57306  110.926254    115.1429  \n",
              "1   -86.93633  110.787506  117.376884  \n",
              "2  -85.564865   111.10844   117.30034  "
            ],
            "text/html": [
              "\n",
              "  <div id=\"df-0e1ce690-8ae7-43e2-b414-0c4bc53a600b\">\n",
              "    <div class=\"colab-df-container\">\n",
              "      <div>\n",
              "<style scoped>\n",
              "    .dataframe tbody tr th:only-of-type {\n",
              "        vertical-align: middle;\n",
              "    }\n",
              "\n",
              "    .dataframe tbody tr th {\n",
              "        vertical-align: top;\n",
              "    }\n",
              "\n",
              "    .dataframe thead th {\n",
              "        text-align: right;\n",
              "    }\n",
              "</style>\n",
              "<table border=\"1\" class=\"dataframe\">\n",
              "  <thead>\n",
              "    <tr style=\"text-align: right;\">\n",
              "      <th></th>\n",
              "      <th>0</th>\n",
              "      <th>1</th>\n",
              "      <th>2</th>\n",
              "      <th>3</th>\n",
              "      <th>4</th>\n",
              "      <th>5</th>\n",
              "      <th>6</th>\n",
              "      <th>7</th>\n",
              "      <th>8</th>\n",
              "      <th>9</th>\n",
              "    </tr>\n",
              "  </thead>\n",
              "  <tbody>\n",
              "    <tr>\n",
              "      <th>0</th>\n",
              "      <td>0.0</td>\n",
              "      <td>-112.98691</td>\n",
              "      <td>-55.051956</td>\n",
              "      <td>18.355057</td>\n",
              "      <td>88.85377</td>\n",
              "      <td>0.16009235</td>\n",
              "      <td>38.426003</td>\n",
              "      <td>-85.57306</td>\n",
              "      <td>110.926254</td>\n",
              "      <td>115.1429</td>\n",
              "    </tr>\n",
              "    <tr>\n",
              "      <th>1</th>\n",
              "      <td>0.0</td>\n",
              "      <td>-117.1149</td>\n",
              "      <td>-55.381134</td>\n",
              "      <td>17.603731</td>\n",
              "      <td>87.53292</td>\n",
              "      <td>-1.4575672</td>\n",
              "      <td>37.09562</td>\n",
              "      <td>-86.93633</td>\n",
              "      <td>110.787506</td>\n",
              "      <td>117.376884</td>\n",
              "    </tr>\n",
              "    <tr>\n",
              "      <th>2</th>\n",
              "      <td>0.0</td>\n",
              "      <td>-115.511894</td>\n",
              "      <td>-54.647133</td>\n",
              "      <td>18.261086</td>\n",
              "      <td>87.01673</td>\n",
              "      <td>-0.64810276</td>\n",
              "      <td>37.57982</td>\n",
              "      <td>-85.564865</td>\n",
              "      <td>111.10844</td>\n",
              "      <td>117.30034</td>\n",
              "    </tr>\n",
              "  </tbody>\n",
              "</table>\n",
              "</div>\n",
              "      <button class=\"colab-df-convert\" onclick=\"convertToInteractive('df-0e1ce690-8ae7-43e2-b414-0c4bc53a600b')\"\n",
              "              title=\"Convert this dataframe to an interactive table.\"\n",
              "              style=\"display:none;\">\n",
              "        \n",
              "  <svg xmlns=\"http://www.w3.org/2000/svg\" height=\"24px\"viewBox=\"0 0 24 24\"\n",
              "       width=\"24px\">\n",
              "    <path d=\"M0 0h24v24H0V0z\" fill=\"none\"/>\n",
              "    <path d=\"M18.56 5.44l.94 2.06.94-2.06 2.06-.94-2.06-.94-.94-2.06-.94 2.06-2.06.94zm-11 1L8.5 8.5l.94-2.06 2.06-.94-2.06-.94L8.5 2.5l-.94 2.06-2.06.94zm10 10l.94 2.06.94-2.06 2.06-.94-2.06-.94-.94-2.06-.94 2.06-2.06.94z\"/><path d=\"M17.41 7.96l-1.37-1.37c-.4-.4-.92-.59-1.43-.59-.52 0-1.04.2-1.43.59L10.3 9.45l-7.72 7.72c-.78.78-.78 2.05 0 2.83L4 21.41c.39.39.9.59 1.41.59.51 0 1.02-.2 1.41-.59l7.78-7.78 2.81-2.81c.8-.78.8-2.07 0-2.86zM5.41 20L4 18.59l7.72-7.72 1.47 1.35L5.41 20z\"/>\n",
              "  </svg>\n",
              "      </button>\n",
              "      \n",
              "  <style>\n",
              "    .colab-df-container {\n",
              "      display:flex;\n",
              "      flex-wrap:wrap;\n",
              "      gap: 12px;\n",
              "    }\n",
              "\n",
              "    .colab-df-convert {\n",
              "      background-color: #E8F0FE;\n",
              "      border: none;\n",
              "      border-radius: 50%;\n",
              "      cursor: pointer;\n",
              "      display: none;\n",
              "      fill: #1967D2;\n",
              "      height: 32px;\n",
              "      padding: 0 0 0 0;\n",
              "      width: 32px;\n",
              "    }\n",
              "\n",
              "    .colab-df-convert:hover {\n",
              "      background-color: #E2EBFA;\n",
              "      box-shadow: 0px 1px 2px rgba(60, 64, 67, 0.3), 0px 1px 3px 1px rgba(60, 64, 67, 0.15);\n",
              "      fill: #174EA6;\n",
              "    }\n",
              "\n",
              "    [theme=dark] .colab-df-convert {\n",
              "      background-color: #3B4455;\n",
              "      fill: #D2E3FC;\n",
              "    }\n",
              "\n",
              "    [theme=dark] .colab-df-convert:hover {\n",
              "      background-color: #434B5C;\n",
              "      box-shadow: 0px 1px 3px 1px rgba(0, 0, 0, 0.15);\n",
              "      filter: drop-shadow(0px 1px 2px rgba(0, 0, 0, 0.3));\n",
              "      fill: #FFFFFF;\n",
              "    }\n",
              "  </style>\n",
              "\n",
              "      <script>\n",
              "        const buttonEl =\n",
              "          document.querySelector('#df-0e1ce690-8ae7-43e2-b414-0c4bc53a600b button.colab-df-convert');\n",
              "        buttonEl.style.display =\n",
              "          google.colab.kernel.accessAllowed ? 'block' : 'none';\n",
              "\n",
              "        async function convertToInteractive(key) {\n",
              "          const element = document.querySelector('#df-0e1ce690-8ae7-43e2-b414-0c4bc53a600b');\n",
              "          const dataTable =\n",
              "            await google.colab.kernel.invokeFunction('convertToInteractive',\n",
              "                                                     [key], {});\n",
              "          if (!dataTable) return;\n",
              "\n",
              "          const docLinkHtml = 'Like what you see? Visit the ' +\n",
              "            '<a target=\"_blank\" href=https://colab.research.google.com/notebooks/data_table.ipynb>data table notebook</a>'\n",
              "            + ' to learn more about interactive tables.';\n",
              "          element.innerHTML = '';\n",
              "          dataTable['output_type'] = 'display_data';\n",
              "          await google.colab.output.renderOutput(dataTable, element);\n",
              "          const docLink = document.createElement('div');\n",
              "          docLink.innerHTML = docLinkHtml;\n",
              "          element.appendChild(docLink);\n",
              "        }\n",
              "      </script>\n",
              "    </div>\n",
              "  </div>\n",
              "  "
            ]
          },
          "metadata": {},
          "execution_count": 24
        }
      ]
    },
    {
      "cell_type": "markdown",
      "source": [
        "# Plots\n"
      ],
      "metadata": {
        "id": "H4p8CC6PfoOX"
      }
    },
    {
      "cell_type": "code",
      "source": [
        "import matplotlib.pyplot as plt"
      ],
      "metadata": {
        "id": "32IB6jYPg8xz"
      },
      "execution_count": null,
      "outputs": []
    },
    {
      "cell_type": "code",
      "source": [
        "round_ELO = round( ELO_L2 + 500 )\n",
        "print(round_ELO)"
      ],
      "metadata": {
        "colab": {
          "base_uri": "https://localhost:8080/"
        },
        "id": "-UmhTOf7g_JN",
        "outputId": "a14eacf9-4780-4e4a-d73f-7b0b92df63dc"
      },
      "execution_count": null,
      "outputs": [
        {
          "output_type": "stream",
          "name": "stdout",
          "text": [
            "[500 387 445 518 589 500 538 414 611 615]\n"
          ]
        }
      ]
    },
    {
      "cell_type": "code",
      "source": [
        "ELO = ELO_L2\n",
        "\n",
        "fig, ax = plt.subplots()\n",
        "\n",
        "p = jnp.linspace(0.25,0.75,100)\n",
        "rating = 400*jnp.log10(p/(1-p))\n",
        "\n",
        "runner_weights_winrate = symmetric_tournament_results.T[0]\n",
        "\n",
        "ax.set_xlabel(\"Win rate vs runner_weights_AI\")\n",
        "ax.set_ylabel(\"ELO score\")\n",
        "ax.plot(p,rating, color='gold')\n",
        "ax.scatter(runner_weights_winrate,ELO)\n",
        "names = [\"RW\", \"G1\", \"G2\", \"G3\", \"G4\", \"G6\", \"G8\", \"G9\", \"G13\", \"G15\"]\n",
        "y_off = [-30, 10, 10, 10, -30, -30, -30, 10, 15, -20]\n",
        "for i, txt in enumerate(names):\n",
        "    ax.annotate(txt, (runner_weights_winrate[i] - 0.015, ELO_L2[i]+y_off[i]))\n",
        "\n",
        "fig = plt.gcf()\n",
        "fig.savefig('Tourny_results.png', dpi=300)\n"
      ],
      "metadata": {
        "colab": {
          "base_uri": "https://localhost:8080/",
          "height": 280
        },
        "id": "GA2nOfYZiur-",
        "outputId": "1a9e9c5a-d942-4083-ccd0-bc747be50835"
      },
      "execution_count": null,
      "outputs": [
        {
          "output_type": "display_data",
          "data": {
            "text/plain": [
              "<Figure size 432x288 with 1 Axes>"
            ],
            "image/png": "[encoded data removed]"
          },
          "metadata": {
            "needs_background": "light"
          }
        }
      ]
    }
  ]
}