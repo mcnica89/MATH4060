{
  "nbformat": 4,
  "nbformat_minor": 0,
  "metadata": {
    "colab": {
      "name": "Gamblers_Problem_SARSA_and_GRAD_descent.ipynb",
      "provenance": [],
      "authorship_tag": "ABX9TyPNXRfygy2fEZxKJKve1FQA",
      "include_colab_link": true
    },
    "kernelspec": {
      "name": "python3",
      "display_name": "Python 3"
    },
    "language_info": {
      "name": "python"
    }
  },
  "cells": [
    {
      "cell_type": "markdown",
      "metadata": {
        "id": "view-in-github",
        "colab_type": "text"
      },
      "source": [
        "<a href=\"https://colab.research.google.com/github/mcnica89/MATH4060/blob/main/Gamblers_Problem_SARSA_and_GRAD_descent.ipynb\" target=\"_parent\"><img src=\"https://colab.research.google.com/assets/colab-badge.svg\" alt=\"Open In Colab\"/></a>"
      ]
    },
    {
      "cell_type": "code",
      "execution_count": 1,
      "metadata": {
        "id": "ND2F1s0J8M8N"
      },
      "outputs": [],
      "source": [
        "import numpy as np\n",
        "import matplotlib.pyplot as plt\n",
        "#Import packages. Feel free to add any others you might use!\n",
        "import itertools\n",
        "import jax.numpy as jnp\n",
        "import jax\n",
        "import matplotlib.pyplot as plt\n",
        "from jax import random as jrandom\n",
        "from jax import nn as jnn\n",
        "import random\n",
        "import time\n",
        "import math\n",
        "import numpy as np"
      ]
    },
    {
      "cell_type": "code",
      "source": [
        "#Code these as global variables to match textbook notation for inputs to functions\n",
        "P_HEADS = 0.3\n",
        "N_TARGET = 100\n",
        "N_PARAMS = 10"
      ],
      "metadata": {
        "id": "DNXX5xnj-tDv"
      },
      "execution_count": 2,
      "outputs": []
    },
    {
      "cell_type": "markdown",
      "source": [
        "# Explanation of the value function\n",
        "\n",
        "Thinking in terms of the fraction of the way to the end, $f(x)$=value_func(x N_{TARGET},w) for $x\\in [0,1]$ is the function that has these properties:\n",
        "- Piecewise linear\n",
        "- Has $f(0)=0$, $f(N_{TARGET})=1$ \n",
        "- Has slope equal to the $i$-th weight, $w[i]$ on the interval $[i/N_{PARAMS}, (i+1)/N_{PARAMS}]$ \n",
        "\n",
        "This is achieved as follows:\n",
        "- Do linear combinations of the form:\n",
        "\n",
        " $ f(x) = \\sum_{i=1}^{N_{PARAMS}} d_i (x - i/N_{PARAMS})^+ $\n",
        "\n",
        " where we only add on the terms where $x - i/N_{PARAMS} > 0$ (We use the notation $x^+ = x$ if $x>0$ and $x^+ = 0$ if $x<0$. This is alo called the RELU function $ReLU(x)=x^+$) \n",
        "\n",
        " Here $d_i$ represents the slope ADDED to the function in the $i$-th interval. Since we want the weights to be the slope (and not the amount added on) we set $s_i = w_{i+1} - w_{i}$. Lastly, we normalize everything so that the average slope is 1 so that the function will end at $f(1)=1$."
      ],
      "metadata": {
        "id": "ZTzWCizAY4uZ"
      }
    },
    {
      "cell_type": "code",
      "source": [
        "FEATURE_LOCATIONS = jnp.arange(0,1,1.0/N_PARAMS) #Location of the intervals for the piecewise linear function\n",
        "print(\"Locations: \", FEATURE_LOCATIONS)\n",
        "\n",
        "def two_condition_where(cond1, val1, cond2, val2, val_else ): #Used to make sure out of range things are set correctly\n",
        "  return jnp.where( cond1, val1, jnp.where(cond2, val2, val_else))\n",
        "\n",
        "def value_func(s,w): \n",
        "  '''Represents the value function at state s using weights w'''\n",
        "  x = s/N_TARGET #x \\in [0,1] is the \"fraction\" we are done\n",
        "  \n",
        "  if jnp.isscalar(s):  \n",
        "    #The features are a vector of length \"FEATURE_LOCATIONS\" where the i-th compnent is\n",
        "    #    (x - LOCATION_i)^+ \n",
        "    # This is implemented using the relu function relu(x)=x^+\n",
        "    features = jnn.relu(x- FEATURE_LOCATIONS) \n",
        "  else:\n",
        "    #When x is a vector, we use broadcasting to calculate all the featuers at once \n",
        "    # So features will be an array of shape (length of x, length of FEATURE_LOCATIONS)  \n",
        "    features = jnn.relu(x[:,jnp.newaxis] - FEATURE_LOCATIONS) \n",
        "  \n",
        "  #By doing a sum of the features, we are adding to the slope at each interval\n",
        "  # Since we want the weights w to represent the slope (not the change in slope)\n",
        "  # we do a difference of the weights w first\n",
        "  # We also normalize so that the average slope is 1. This ensures that f(1)=1\n",
        "  normalized_slope_diffs = jnp.diff(w,prepend=0)/jnp.mean(w) \n",
        "  \n",
        "  score = jnp.inner(  features, normalized_slope_diffs ) \n",
        "\n",
        "  #We clip the score so its always between [0,1] (this matters e.g. in case negative slopes crop up)\n",
        "  clipped_score = jnp.clip(score,0.0,1.0)\n",
        "\n",
        "  #We also ensure that situations where s<0 and s>N_TARGET are handled correctly using the jnp.where statement\n",
        "  return two_condition_where( s<=0, 0.0, s>=N_TARGET, 1.0, clipped_score )\n",
        "  \n",
        "def q_func(s,a,w):\n",
        "  '''Value of the q function at state s and action a, using the weights w'''\n",
        "\n",
        "  #We use the fact that taking action a moves you up to states s+a with probability P_HEADS\n",
        "  # and down to state s-a with probability 1-P_HEADS. \n",
        "  # This means we can write the q function in terms of just the value function \n",
        "  ans = P_HEADS*value_func( s+a, w ) + (1-P_HEADS)*value_func( s-a, w )\n",
        "\n",
        "  #We also ensure cases where s<=0 and s>=N_TARGET are handled correctly\n",
        "  return two_condition_where( s<=0, 0.0, s>=N_TARGET, 1.0, ans) \n",
        "\n",
        "#Take the gradient of both! \n",
        "#Note that the second number tells jax.grad which variable to take the derivative w.r.t to\n",
        "grad_value_func = jax.grad(value_func, 1)\n",
        "grad_q_func = jax.grad(q_func, 2)\n",
        "\n",
        "\n",
        "#Function tests!\n",
        "s = N_TARGET/2\n",
        "w = jnp.ones(N_PARAMS)\n",
        "print(\"Value func test: \", value_func(s,w))\n",
        "\n",
        "a = 1\n",
        "print(\"Q func test: \", q_func(s,a,w))\n",
        "\n",
        "#Batch test:\n",
        "s = jnp.array([N_TARGET/4, N_TARGET/2, N_TARGET*2, 0])\n",
        "print(\"Batch value func test: \", value_func(s,w))\n",
        "\n",
        "#Gradient tests:\n",
        "s = N_TARGET/2\n",
        "grad_value_func = jax.grad(value_func, 1)\n",
        "print(\"Gradient of value function test: \", grad_value_func(s,w))\n",
        "\n",
        "s = N_TARGET/2\n",
        "a = 1\n",
        "grad_q_func = jax.grad(q_func, 2)\n",
        "print(\"Gradient of Q function test: \", grad_q_func(s,a, w))"
      ],
      "metadata": {
        "colab": {
          "base_uri": "https://localhost:8080/"
        },
        "id": "T6v1fEL-8RJE",
        "outputId": "360b3bf3-5bdf-4c4a-c948-6d27bbc5382f"
      },
      "execution_count": 29,
      "outputs": [
        {
          "output_type": "stream",
          "name": "stdout",
          "text": [
            "Locations:  [0.  0.1 0.2 0.3 0.4 0.5 0.6 0.7 0.8 0.9]\n",
            "Value func test:  0.5\n",
            "Q func test:  0.496\n",
            "Batch value func test:  [0.25 0.5  1.   0.  ]\n",
            "Gradient of value function test:  [ 0.05  0.05  0.05  0.05  0.05 -0.05 -0.05 -0.05 -0.05 -0.05]\n",
            "Gradient of Q function test:  [ 0.05  0.05  0.05  0.05  0.04 -0.05 -0.05 -0.05 -0.05 -0.05]\n"
          ]
        }
      ]
    },
    {
      "cell_type": "code",
      "source": [
        "import numpy as np\n",
        "def plot_value_function_and_actions(w, autoscale=True):\n",
        "  #Purpose:\n",
        "  #  Plot v_star and a_star for the Gambler's problem\n",
        "  #Output:\n",
        "  #  A plot of the simple random walks \n",
        "\n",
        "\n",
        "  fig, ax = plt.subplots()  # Create a figure containing a single axes.\n",
        "  if autoscale:\n",
        "    ax.axhline(0,color='black',linestyle='dashed')\n",
        "    ax.axhline(1,color='black',linestyle='dashed')\n",
        "  ax.set_title(\"Value function\")\n",
        "  ax.set_xlabel(\"State ($)\")\n",
        "  ax.set_ylabel(\"Value (Probability to win)\")\n",
        "\n",
        "  \n",
        "  a_star = np.zeros(N_TARGET)\n",
        "  all_states = jnp.arange(1,N_TARGET)\n",
        "  v_star = value_func(all_states,w)\n",
        "    \n",
        "  for s in range(1,N_TARGET):\n",
        "    max_bet = min(s,N_TARGET-s)\n",
        "    all_bets = jnp.arange(1,max_bet+1)\n",
        "    q_s = q_func(s,all_bets,w)\n",
        "    a_star[s] = jnp.argmax(q_s)+1 #add one because the \"0\"-th entry represents betting 1\n",
        "    \n",
        "\n",
        "\n",
        "  ax.plot(v_star,linewidth=2, alpha=0.75, color='blue')  # Plot some data on the axes.\n",
        "\n",
        "  fig2, ax2 = plt.subplots()  # Create a figure containing a single axes.\n",
        "  ax2.set_title(\"Optimal bet\")\n",
        "  ax2.set_xlabel(\"State ($)\")\n",
        "  ax2.set_ylabel(\"Size of the optimal bet\")\n",
        "\n",
        "  ax2.plot(a_star,linewidth=2, alpha=0.75, color='red')  # Plot some data on the axes.\n",
        "\n",
        "  plt.show()\n",
        "\n",
        "w = jnp.ones(N_PARAMS)\n",
        "w = w.at[0].set(0.2) #lower the slope of the first segment \n",
        "w = w.at[-1].set(5.0) #increase the slope of the last segment\n",
        "plot_value_function_and_actions(w)"
      ],
      "metadata": {
        "colab": {
          "base_uri": "https://localhost:8080/",
          "height": 573
        },
        "id": "_fUhfIKiBN4J",
        "outputId": "0997fe45-fa21-4fa0-c009-6dd14317ca7f"
      },
      "execution_count": 39,
      "outputs": [
        {
          "output_type": "display_data",
          "data": {
            "image/png": "[encoded data removed]",
            "text/plain": [
              "<Figure size 432x288 with 1 Axes>"
            ]
          },
          "metadata": {
            "needs_background": "light"
          }
        },
        {
          "output_type": "display_data",
          "data": {
            "image/png": "[encoded data removed]",
            "text/plain": [
              "<Figure size 432x288 with 1 Axes>"
            ]
          },
          "metadata": {
            "needs_background": "light"
          }
        }
      ]
    },
    {
      "cell_type": "code",
      "source": [
        "def gamblers_problem_epsilon_greedy(s, w, epsilon):\n",
        "  '''Return the action dertermined from the q function from current_state using the epsilon-greedy algorthm'''\n",
        "  #This sis the line from the pseudocode that says \"Choose A from S using policy derived from Q (e.g. epsilond greedy)\"\n",
        "  if s == 0 or s==N_TARGET:\n",
        "    return 1 #Handles the corner case when max_bet would be 0\n",
        "\n",
        "\n",
        "  probability_epsilon_event = (random.random() < epsilon)\n",
        "\n",
        "  #Compute the greedy action by finding all the q values and maximizing\n",
        "  max_bet =  min(s,N_TARGET-s)\n",
        "  all_bets = jnp.arange(1,max_bet+1)\n",
        "  q_s = q_func(s,all_bets,w)\n",
        "  greedy_action = int(jnp.argmax(q_s)+1)\n",
        "\n",
        "  #Implement epsilon-greedy: \n",
        "  # -Completly random with probability epsilon (or if we have some kind of out of bound sitatuion)\n",
        "  # -Otherwise choose the greedy action\n",
        "  if greedy_action == 0 or greedy_action > max_bet or probability_epsilon_event == True:  \n",
        "    return random.randint(1,max_bet) #Purely random\n",
        "  else:\n",
        "    return greedy_action #Purely greedy\n",
        "\n",
        "def gamblers_problem_nextstate(current_state, action):\n",
        "  '''Returns the next state (its random!) given the current_state and action you chose'''\n",
        "\n",
        "  win = (random.random() < P_HEADS) #Boolean if you won or not\n",
        "  if win == True:\n",
        "    return current_state + action\n",
        "  else:\n",
        "    return current_state - action \n",
        "\n",
        "def gamblers_problem_SARSA_grad(num_episodes=10):\n",
        "  w = jnp.ones(N_PARAMS) #initialize the weights\n",
        "  \n",
        "  #Loop over all the episodes\n",
        "  for episode in range(num_episodes):\n",
        "\n",
        "    #Display progress 10 times during the run\n",
        "    if episode % int(num_episodes/10) == 0:\n",
        "      w = w/jnp.mean(w) #Normalize the weights to have average slope 1\n",
        "      #(This doesnt change anything since the value func normalizes them anyways)\n",
        "      print(\"Iteration number: \", episode)\n",
        "      print(\"Weights: \",w)\n",
        "\n",
        "    #On a new epsiodes, set the epsilon value and learning rate and pick a random starting state  \n",
        "    epsilon = 10/jnp.sqrt(episode+1)\n",
        "    learning_rate = 10/jnp.sqrt(episode+1)\n",
        "    current_state = random.randint(1,N_TARGET-1)\n",
        "\n",
        "\n",
        "    #Loop until we exit\n",
        "    while current_state > 0 and current_state < N_TARGET:\n",
        "      \n",
        "      #Get the action and q value according to epsilon greedy\n",
        "      current_action = gamblers_problem_epsilon_greedy(current_state, w, epsilon)\n",
        "      q_current = q_func(current_state,current_action,w)\n",
        "\n",
        "      #Find the gradient here! Used in the update rule\n",
        "      grad = grad_q_func(current_state,current_action,w)\n",
        "\n",
        "      #Get the next state and next action again using the policy and advancement\n",
        "      new_state = gamblers_problem_nextstate(current_state, current_action)\n",
        "      new_action = gamblers_problem_epsilon_greedy(new_state, w, epsilon)\n",
        "      q_new = q_func(new_state,new_action,w)\n",
        "     \n",
        "      #Updat the weights according to gradient descent!\n",
        "      w = w + learning_rate*(q_new - q_current)*grad\n",
        "\n",
        "      #Update the state and then repeat\n",
        "      current_state = new_state\n",
        " \n",
        "  plot_value_function_and_actions(w)\n",
        "  return w"
      ],
      "metadata": {
        "id": "_1CTaMv7AWrg"
      },
      "execution_count": 40,
      "outputs": []
    },
    {
      "cell_type": "code",
      "source": [
        "jnp.set_printoptions(precision=2, suppress=True)\n",
        "gamblers_problem_Q_grad(1000)"
      ],
      "metadata": {
        "colab": {
          "base_uri": "https://localhost:8080/",
          "height": 949
        },
        "id": "hFzKZU3NE5YB",
        "outputId": "ff9dacd6-4543-4400-8d5a-c5e67808264e"
      },
      "execution_count": 41,
      "outputs": [
        {
          "output_type": "stream",
          "name": "stdout",
          "text": [
            "Iteration number:  0\n",
            "Weights:  [1. 1. 1. 1. 1. 1. 1. 1. 1. 1.]\n",
            "Iteration number:  100\n",
            "Weights:  [0.06 0.16 0.35 0.78 0.81 0.82 1.1  1.49 1.92 2.5 ]\n",
            "Iteration number:  200\n",
            "Weights:  [-0.16 -0.03  0.21  0.71  0.67  0.68  1.    1.49  2.21  3.22]\n",
            "Iteration number:  300\n",
            "Weights:  [0.07 0.16 0.32 0.74 0.67 0.64 0.87 1.33 2.02 3.18]\n",
            "Iteration number:  400\n",
            "Weights:  [0.14 0.18 0.32 0.76 0.69 0.6  0.82 1.26 1.97 3.25]\n",
            "Iteration number:  500\n",
            "Weights:  [0.06 0.08 0.28 0.77 0.73 0.62 0.82 1.25 1.97 3.42]\n",
            "Iteration number:  600\n",
            "Weights:  [0.12 0.13 0.35 0.78 0.72 0.61 0.77 1.2  1.9  3.41]\n",
            "Iteration number:  700\n",
            "Weights:  [0.13 0.12 0.37 0.78 0.7  0.54 0.75 1.19 1.9  3.52]\n",
            "Iteration number:  800\n",
            "Weights:  [0.11 0.11 0.36 0.78 0.71 0.55 0.77 1.18 1.88 3.56]\n",
            "Iteration number:  900\n",
            "Weights:  [0.12 0.11 0.36 0.77 0.7  0.55 0.76 1.17 1.87 3.6 ]\n"
          ]
        },
        {
          "output_type": "display_data",
          "data": {
            "image/png": "[encoded data removed]",
            "text/plain": [
              "<Figure size 432x288 with 1 Axes>"
            ]
          },
          "metadata": {
            "needs_background": "light"
          }
        },
        {
          "output_type": "display_data",
          "data": {
            "image/png": "[encoded data removed]",
            "text/plain": [
              "<Figure size 432x288 with 1 Axes>"
            ]
          },
          "metadata": {
            "needs_background": "light"
          }
        },
        {
          "output_type": "execute_result",
          "data": {
            "text/plain": [
              "DeviceArray([0.16, 0.12, 0.36, 0.72, 0.64, 0.51, 0.74, 1.16, 1.86, 3.64],            dtype=float32)"
            ]
          },
          "metadata": {},
          "execution_count": 41
        }
      ]
    }
  ]
}