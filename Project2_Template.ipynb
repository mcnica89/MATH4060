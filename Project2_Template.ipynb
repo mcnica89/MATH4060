{
  "nbformat": 4,
  "nbformat_minor": 0,
  "metadata": {
    "colab": {
      "name": "Project2_Template.ipynb",
      "provenance": [],
      "authorship_tag": "ABX9TyOhFIIPJSXPSUZ3T3f2xSQC",
      "include_colab_link": true
    },
    "kernelspec": {
      "name": "python3",
      "display_name": "Python 3"
    },
    "language_info": {
      "name": "python"
    }
  },
  "cells": [
    {
      "cell_type": "markdown",
      "metadata": {
        "id": "view-in-github",
        "colab_type": "text"
      },
      "source": [
        "<a href=\"https://colab.research.google.com/github/mcnica89/MATH4060/blob/main/Project2_Template.ipynb\" target=\"_parent\"><img src=\"https://colab.research.google.com/assets/colab-badge.svg\" alt=\"Open In Colab\"/></a>"
      ]
    },
    {
      "cell_type": "code",
      "execution_count": null,
      "metadata": {
        "id": "FrsX7ycVxemp"
      },
      "outputs": [],
      "source": [
        "#Import packages. Feel free to add any others you might use!\n",
        "import itertools\n",
        "import jax.numpy as jnp\n",
        "import matplotlib.pyplot as plt\n",
        "from jax import random as jrandom\n",
        "from jax import nn as jnn\n",
        "import numpy as np\n",
        "import random\n",
        "import time\n",
        "import math"
      ]
    },
    {
      "cell_type": "markdown",
      "source": [
        "# Problem 1 - Optimal Strategy in 2 Player Pig"
      ],
      "metadata": {
        "id": "t8YlcbPP_W97"
      }
    },
    {
      "cell_type": "markdown",
      "source": [
        "## 1a Solution"
      ],
      "metadata": {
        "id": "9HdtXVUh-YoL"
      }
    },
    {
      "cell_type": "markdown",
      "source": [
        "## 1b Solution"
      ],
      "metadata": {
        "id": "3amgJm0Y-aOe"
      }
    },
    {
      "cell_type": "markdown",
      "source": [
        "## 1c Solution\n"
      ],
      "metadata": {
        "id": "Uk0il-YR-bto"
      }
    },
    {
      "cell_type": "code",
      "source": [
        "def optimal_2_player_pig(N_max):\n",
        "  '''Computes the optimal strategy in 2 player PIG for games up to size N_max'''\n",
        "  #Input: \n",
        "  #   N_max = Maximum distance that players can ever be from the finish line\n",
        "  #Output:\n",
        "  # v_star, roll_again\n",
        "  # v_star = An array of shape N_max,N_max,N_max with the probabability to win from a given position\n",
        "  # roll_again =An array of shape N_max,N_max,N_max with whether or not to roll again from a given position\n",
        "  #Note:\n",
        "  # The indexing for the state space should be \n",
        "  # First entry = How far the runner is advanced\n",
        "  # Second entry = Squares Remaining for Player 1\n",
        "  # Third entry = Squares Remaining for Player 2 \n",
        "  # We assume it is player 1's turn. So the game starts at the position (0,N_max,N_max)\n",
        "  # (r,p1,p2) represents the decision PLayer 1 has to make when\n",
        "  # Player 1 have p1 squares remaining, Player 2 has p2 squares remaining and the runner has advanced r squares  \n",
        "\n",
        "  v_star = jnp.zeros((N_max+1,N_max+1,N_max+1))\n",
        "  roll_again = jnp.zeros((N_max+1,N_max+1,N_max+1), dtype=bool)\n",
        "\n",
        "  return v_star, roll_again"
      ],
      "metadata": {
        "id": "c3bPt4Bx-jG1"
      },
      "execution_count": null,
      "outputs": []
    },
    {
      "cell_type": "markdown",
      "source": [
        "# Problem 2 - Playing PIG agains the enemy"
      ],
      "metadata": {
        "id": "bm3Z_F1UxkV3"
      }
    },
    {
      "cell_type": "markdown",
      "source": [
        "## 2a Solution\n"
      ],
      "metadata": {
        "id": "R98KdkDkxv9a"
      }
    },
    {
      "cell_type": "code",
      "source": [
        "\n",
        "#An example enemy outcome function\n",
        "# You may wish to create your own! (Hint: What you did in Project 1 will make this easy!)\n",
        "def timid_enemy(hero_squares_remaining, enemy_squares_remaining):\n",
        "  '''An example of an enemy_outcome function'''\n",
        "  #Input: Squares remaining for the heror and the enemy\n",
        "  #Output: A random number that is \\leq enemy_square_remaining indicating the squares remaining for the enemy after their turn\n",
        "\n",
        "  #This timid enemy rolls the dice exactly once and always stays. (They never push their luck by rolling more than once)\n",
        "  dice_roll = random.randint(1,7)\n",
        "  if dice_roll == 1:\n",
        "    #Enemy busted! They do not advance\n",
        "    return enemy_squares_remaining\n",
        "  else:\n",
        "    #If they don't bust they advance by the amount on the dice\n",
        "    #If this would advance them past the finish line, they just go to 0 square remaining\n",
        "    return max(enemy_squares_remaining - dice_roll,0)"
      ],
      "metadata": {
        "id": "8CB6FYEoAMxJ"
      },
      "execution_count": null,
      "outputs": []
    },
    {
      "cell_type": "code",
      "source": [
        "def optimal_strategy_against_enemy(enemy_outcome, N_max):\n",
        "  '''Computes the optimal strategy in 2 player PIG for games up to size N_max'''\n",
        "  #Input: \n",
        "  #   enemy_outcome = A function that simulates the enemies strategy\n",
        "  #                   (See timit_enemy for an example)\n",
        "  #   N_max = Maximum distance that players can ever be from the finish line\n",
        "  #Output:\n",
        "  # v_star, roll_again\n",
        "  # v_star = An array of shape N_max,N_max,N_max with the probabability to win from a given position\n",
        "  # roll_again =An array of shape N_max,N_max,N_max with whether or not to roll again from a given position\n",
        "  #Note:\n",
        "  # The indexing for the state space should be \n",
        "  # First entry = How far the runner is advanced\n",
        "  # Second entry = Squares Remaining for Player 1\n",
        "  # Third entry = Squares Remaining for Player 2 \n",
        "  # We assume it is player 1's turn. So the game starts at the position (0,N_max,N_max)\n",
        "  # (r,p1,p2) represents the decision PLayer 1 has to make when\n",
        "  # Player 1 have p1 squares remaining, Player 2 has p2 squares remaining and the runner has advanced r squares\n",
        "\n",
        "\n",
        "  v_star = jnp.zeros((N_max+1,N_max+1,N_max+1))\n",
        "  roll_again = jnp.zeros((N_max+1,N_max+1,N_max+1), dtype=bool)\n",
        "\n",
        "  #At some point you should be using the function enemy_outcome to simulate what the enemy does\n",
        "\n",
        "  #Note that the indexing for the state space should be How far the runner is advanced, Squares Remaining for Player 1, Squares Remaining for Player 2 \n",
        "  return v_star, roll_again"
      ],
      "metadata": {
        "id": "QYFmiaHUAntp"
      },
      "execution_count": null,
      "outputs": []
    },
    {
      "cell_type": "code",
      "source": [
        "print(optimal_strategy_against_enemy(timid_enemy, 100))"
      ],
      "metadata": {
        "colab": {
          "base_uri": "https://localhost:8080/"
        },
        "id": "lQP9eTVNA-2Q",
        "outputId": "fdf52ec6-d5a2-4581-8a1d-115a0dec8dbb"
      },
      "execution_count": null,
      "outputs": [
        {
          "output_type": "stream",
          "name": "stdout",
          "text": [
            "(DeviceArray([[[0., 0., 0., ..., 0., 0., 0.],\n",
            "              [0., 0., 0., ..., 0., 0., 0.],\n",
            "              [0., 0., 0., ..., 0., 0., 0.],\n",
            "              ...,\n",
            "              [0., 0., 0., ..., 0., 0., 0.],\n",
            "              [0., 0., 0., ..., 0., 0., 0.],\n",
            "              [0., 0., 0., ..., 0., 0., 0.]],\n",
            "\n",
            "             [[0., 0., 0., ..., 0., 0., 0.],\n",
            "              [0., 0., 0., ..., 0., 0., 0.],\n",
            "              [0., 0., 0., ..., 0., 0., 0.],\n",
            "              ...,\n",
            "              [0., 0., 0., ..., 0., 0., 0.],\n",
            "              [0., 0., 0., ..., 0., 0., 0.],\n",
            "              [0., 0., 0., ..., 0., 0., 0.]],\n",
            "\n",
            "             [[0., 0., 0., ..., 0., 0., 0.],\n",
            "              [0., 0., 0., ..., 0., 0., 0.],\n",
            "              [0., 0., 0., ..., 0., 0., 0.],\n",
            "              ...,\n",
            "              [0., 0., 0., ..., 0., 0., 0.],\n",
            "              [0., 0., 0., ..., 0., 0., 0.],\n",
            "              [0., 0., 0., ..., 0., 0., 0.]],\n",
            "\n",
            "             ...,\n",
            "\n",
            "             [[0., 0., 0., ..., 0., 0., 0.],\n",
            "              [0., 0., 0., ..., 0., 0., 0.],\n",
            "              [0., 0., 0., ..., 0., 0., 0.],\n",
            "              ...,\n",
            "              [0., 0., 0., ..., 0., 0., 0.],\n",
            "              [0., 0., 0., ..., 0., 0., 0.],\n",
            "              [0., 0., 0., ..., 0., 0., 0.]],\n",
            "\n",
            "             [[0., 0., 0., ..., 0., 0., 0.],\n",
            "              [0., 0., 0., ..., 0., 0., 0.],\n",
            "              [0., 0., 0., ..., 0., 0., 0.],\n",
            "              ...,\n",
            "              [0., 0., 0., ..., 0., 0., 0.],\n",
            "              [0., 0., 0., ..., 0., 0., 0.],\n",
            "              [0., 0., 0., ..., 0., 0., 0.]],\n",
            "\n",
            "             [[0., 0., 0., ..., 0., 0., 0.],\n",
            "              [0., 0., 0., ..., 0., 0., 0.],\n",
            "              [0., 0., 0., ..., 0., 0., 0.],\n",
            "              ...,\n",
            "              [0., 0., 0., ..., 0., 0., 0.],\n",
            "              [0., 0., 0., ..., 0., 0., 0.],\n",
            "              [0., 0., 0., ..., 0., 0., 0.]]], dtype=float32), DeviceArray([[[False, False, False, ..., False, False, False],\n",
            "              [False, False, False, ..., False, False, False],\n",
            "              [False, False, False, ..., False, False, False],\n",
            "              ...,\n",
            "              [False, False, False, ..., False, False, False],\n",
            "              [False, False, False, ..., False, False, False],\n",
            "              [False, False, False, ..., False, False, False]],\n",
            "\n",
            "             [[False, False, False, ..., False, False, False],\n",
            "              [False, False, False, ..., False, False, False],\n",
            "              [False, False, False, ..., False, False, False],\n",
            "              ...,\n",
            "              [False, False, False, ..., False, False, False],\n",
            "              [False, False, False, ..., False, False, False],\n",
            "              [False, False, False, ..., False, False, False]],\n",
            "\n",
            "             [[False, False, False, ..., False, False, False],\n",
            "              [False, False, False, ..., False, False, False],\n",
            "              [False, False, False, ..., False, False, False],\n",
            "              ...,\n",
            "              [False, False, False, ..., False, False, False],\n",
            "              [False, False, False, ..., False, False, False],\n",
            "              [False, False, False, ..., False, False, False]],\n",
            "\n",
            "             ...,\n",
            "\n",
            "             [[False, False, False, ..., False, False, False],\n",
            "              [False, False, False, ..., False, False, False],\n",
            "              [False, False, False, ..., False, False, False],\n",
            "              ...,\n",
            "              [False, False, False, ..., False, False, False],\n",
            "              [False, False, False, ..., False, False, False],\n",
            "              [False, False, False, ..., False, False, False]],\n",
            "\n",
            "             [[False, False, False, ..., False, False, False],\n",
            "              [False, False, False, ..., False, False, False],\n",
            "              [False, False, False, ..., False, False, False],\n",
            "              ...,\n",
            "              [False, False, False, ..., False, False, False],\n",
            "              [False, False, False, ..., False, False, False],\n",
            "              [False, False, False, ..., False, False, False]],\n",
            "\n",
            "             [[False, False, False, ..., False, False, False],\n",
            "              [False, False, False, ..., False, False, False],\n",
            "              [False, False, False, ..., False, False, False],\n",
            "              ...,\n",
            "              [False, False, False, ..., False, False, False],\n",
            "              [False, False, False, ..., False, False, False],\n",
            "              [False, False, False, ..., False, False, False]]],            dtype=bool))\n"
          ]
        }
      ]
    },
    {
      "cell_type": "markdown",
      "source": [
        "## 2b Solution\n"
      ],
      "metadata": {
        "id": "_HndY1SNynyP"
      }
    }
  ]
}