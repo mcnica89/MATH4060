{
  "nbformat": 4,
  "nbformat_minor": 0,
  "metadata": {
    "colab": {
      "name": "Week 4 Calculate PIG strategies with value iteration.ipynb",
      "provenance": [],
      "authorship_tag": "ABX9TyOt9dzlVLwXC+MeuAPim+z3",
      "include_colab_link": true
    },
    "kernelspec": {
      "name": "python3",
      "display_name": "Python 3"
    },
    "language_info": {
      "name": "python"
    }
  },
  "cells": [
    {
      "cell_type": "markdown",
      "metadata": {
        "id": "view-in-github",
        "colab_type": "text"
      },
      "source": [
        "<a href=\"https://colab.research.google.com/github/mcnica89/MATH4060/blob/main/Week_4_Calculate_PIG_strategies_with_value_iteration.ipynb\" target=\"_parent\"><img src=\"https://colab.research.google.com/assets/colab-badge.svg\" alt=\"Open In Colab\"/></a>"
      ]
    },
    {
      "cell_type": "code",
      "execution_count": 1,
      "metadata": {
        "id": "uTch2MxOUKIa"
      },
      "outputs": [],
      "source": [
        "import numpy as np\n",
        "import matplotlib\n",
        "import matplotlib.pyplot as plt"
      ]
    },
    {
      "cell_type": "code",
      "source": [
        "def PIG_matrix(R_max):\n",
        "  #Matrix of movement transition probabilities matrix\n",
        "  #for the runner locations in PIG on a reroll\n",
        "  # -Assumes there is no bust (i.e. assuming you advance!)\n",
        "  # -Capped at R_max (so you can't exceed runners past R_max) for the pruposes of simulation\n",
        "  P = np.zeros((R_max+1,R_max+1))\n",
        "  i,j = np.indices(P.shape)\n",
        "  one_fifth = 1.0/5.0\n",
        "\n",
        "  P[i+2==j] = one_fifth \n",
        "  P[i+3==j] = one_fifth\n",
        "  P[i+4==j] = one_fifth\n",
        "  P[i+5==j] = one_fifth\n",
        "  P[i+6==j] = one_fifth\n",
        "\n",
        "  #Another way to to do this is\n",
        "  # for k in [2,3,4,5,6]:\n",
        "  #   P[i+k==j] = one_fifth\n",
        "\n",
        "\n",
        "  #Make the last column larger so that each row sums to 1\n",
        "  #This is effectively \"rounding down\" anything that goes over S_max \n",
        "  row_sums = np.sum(P,axis=1)\n",
        "  P[:,R_max] += 1-row_sums\n",
        "\n",
        "  return(P)\n",
        "  "
      ],
      "metadata": {
        "id": "_KcPOJOZWtFa"
      },
      "execution_count": 8,
      "outputs": []
    },
    {
      "cell_type": "code",
      "source": [
        "np.set_printoptions(precision=3,suppress=True)\n",
        "PIG_matrix(8)"
      ],
      "metadata": {
        "colab": {
          "base_uri": "https://localhost:8080/"
        },
        "id": "B0esI6cKYEBk",
        "outputId": "933d2a27-3b73-4eef-e586-69302e9b4803"
      },
      "execution_count": 9,
      "outputs": [
        {
          "output_type": "execute_result",
          "data": {
            "text/plain": [
              "array([[0. , 0. , 0.2, 0.2, 0.2, 0.2, 0.2, 0. , 0. ],\n",
              "       [0. , 0. , 0. , 0.2, 0.2, 0.2, 0.2, 0.2, 0. ],\n",
              "       [0. , 0. , 0. , 0. , 0.2, 0.2, 0.2, 0.2, 0.2],\n",
              "       [0. , 0. , 0. , 0. , 0. , 0.2, 0.2, 0.2, 0.4],\n",
              "       [0. , 0. , 0. , 0. , 0. , 0. , 0.2, 0.2, 0.6],\n",
              "       [0. , 0. , 0. , 0. , 0. , 0. , 0. , 0.2, 0.8],\n",
              "       [0. , 0. , 0. , 0. , 0. , 0. , 0. , 0. , 1. ],\n",
              "       [0. , 0. , 0. , 0. , 0. , 0. , 0. , 0. , 1. ],\n",
              "       [0. , 0. , 0. , 0. , 0. , 0. , 0. , 0. , 1. ]])"
            ]
          },
          "metadata": {},
          "execution_count": 9
        }
      ]
    },
    {
      "cell_type": "markdown",
      "source": [
        "# Solo PIG version 1: Distance maximization\n",
        "\n",
        "$\\mathcal{S} = \\{r\\}$ \n",
        "where\n",
        "\n",
        "$r \\in \\{0,1,2,\\ldots\\} = \\text{location of the runner}$\n",
        "\n",
        "\n",
        "---\n",
        "\n",
        "\n",
        "$\\mathcal{A} = \\{\\text{Roll again},\\text{Stay}\\}$ \n",
        "\n",
        "\n",
        "---\n",
        "\n",
        "\n",
        "$R_t = \\begin{cases} s\\text{ if Stay} \\\\ 0\\text{ if roll again} \\end{cases}$ "
      ],
      "metadata": {
        "id": "tRxtefi5gKYN"
      }
    },
    {
      "cell_type": "markdown",
      "source": [
        "Notation: We use the \n",
        "```\n",
        "q_stay[x] \n",
        "```\n",
        "to mean: $q_\\ast(x,\\text{Stay})$\n",
        "\n",
        "and\n",
        "```\n",
        "q_roll_again[x] \n",
        "```\n",
        "to mean: $q_\\ast(x,\\text{Roll Again})$\n",
        "\n",
        "\n"
      ],
      "metadata": {
        "id": "av2fG3gvUsbe"
      }
    },
    {
      "cell_type": "code",
      "source": [
        "def init_value_funcs_distance(R_max):\n",
        "\n",
        "  #Value of staying. This is exactly correct!\n",
        "  #q_stay[x] = x\n",
        "  q_stay = np.arange(R_max+1) \n",
        "\n",
        "  #Value of rolling again. We have to determine this\n",
        "  #q_roll_again[x] = ?\n",
        "  #We intialize it to all zeros since the value is at least 0\n",
        "  # and we'll work our way up to the true value\n",
        "  q_roll_again = np.zeros(R_max+1)\n",
        "\n",
        "  #Optimal value function is the maximum of staying or rolling again \n",
        "  v_star = np.maximum(q_stay,q_roll_again)\n",
        "\n",
        "  return q_stay, q_roll_again, v_star\n"
      ],
      "metadata": {
        "id": "_s-pPEA8UNBF"
      },
      "execution_count": 10,
      "outputs": []
    },
    {
      "cell_type": "code",
      "source": [
        "def value_iteration_distance(R_max, num_iters=1):\n",
        "  '''Does one round of value iteration for PIG'''\n",
        "  q_stay, q_roll_again, v_star = init_value_funcs_distance(R_max)\n",
        "  P = PIG_matrix(R_max)\n",
        "\n",
        "  for i in range(num_iters):\n",
        "\n",
        "    #Version 1: with a FOR LOOP\n",
        "    #PROS:  Only need one iteration (for this particular problem!)\n",
        "    #CONS:  Slower!\n",
        "    for r in np.arange(R_max,-1,-1): #Count down from R_max to 0\n",
        "      q_roll_again[r] = 1/6*0 + 5/6*np.einsum('i,i',v_star,P[r,:])\n",
        "      v_star = np.maximum(q_stay,q_roll_again)\n",
        "    \n",
        "    #Version 2: with a MATRIX MULTIPLICATION\n",
        "    #PROS: Matrix multiplication is very fast on computers!\n",
        "    #CONS: Need more than one iteration!\n",
        "    #q_roll_again = 1/6*0 + 5/6*np.einsum('i,si',v_star,P)\n",
        "    #v_star = np.maximum(q_stay,q_roll_again)\n",
        "    print(q_roll_again)\n",
        "\n",
        "      \n",
        "\n",
        "  return v_star, q_roll_again > q_stay\n"
      ],
      "metadata": {
        "id": "oMGWqXa1WBZS"
      },
      "execution_count": 21,
      "outputs": []
    },
    {
      "cell_type": "code",
      "source": [
        "v_star, roll_again = value_iteration_distance(10,5)"
      ],
      "metadata": {
        "colab": {
          "base_uri": "https://localhost:8080/"
        },
        "id": "DWrLUGZ1A-k7",
        "outputId": "eed48b2e-e3b5-4ab5-ff30-d7029322fcc0"
      },
      "execution_count": 22,
      "outputs": [
        {
          "output_type": "stream",
          "name": "stdout",
          "text": [
            "[6.011 6.283 6.534 6.829 7.231 7.583 7.889 8.167 8.333 8.333 8.333]\n",
            "[6.011 6.283 6.534 6.829 7.231 7.583 7.889 8.167 8.333 8.333 8.333]\n",
            "[6.011 6.283 6.534 6.829 7.231 7.583 7.889 8.167 8.333 8.333 8.333]\n",
            "[6.011 6.283 6.534 6.829 7.231 7.583 7.889 8.167 8.333 8.333 8.333]\n",
            "[6.011 6.283 6.534 6.829 7.231 7.583 7.889 8.167 8.333 8.333 8.333]\n"
          ]
        }
      ]
    },
    {
      "cell_type": "code",
      "source": [
        "v_star, roll_again = value_iteration_distance(1000,100)\n",
        "fig, ax = plt.subplots()  # Create a figure containing a single axes.\n",
        "ax.plot(v_star,linewidth=2) \n",
        "ax.plot(roll_again, linewidth=2)"
      ],
      "metadata": {
        "colab": {
          "base_uri": "https://localhost:8080/",
          "height": 283
        },
        "id": "VKMuBjkqZkwo",
        "outputId": "0e077b62-75ba-446b-af7e-d9b1ab3fedab"
      },
      "execution_count": 20,
      "outputs": [
        {
          "output_type": "execute_result",
          "data": {
            "text/plain": [
              "[<matplotlib.lines.Line2D at 0x7f385c0b3b10>]"
            ]
          },
          "metadata": {},
          "execution_count": 20
        },
        {
          "output_type": "display_data",
          "data": {
            "image/png": "[encoded data removed]",
            "text/plain": [
              "<Figure size 432x288 with 1 Axes>"
            ]
          },
          "metadata": {
            "needs_background": "light"
          }
        }
      ]
    },
    {
      "cell_type": "markdown",
      "source": [
        "# Solo PIG version 2: Target maximization\n",
        "\n",
        "What is the strategy that maximizes reaching a certain target in a certain number of turns?\n",
        "\n",
        "$\\mathcal{S} = \\{r,s,t\\} $\n",
        "where :\n",
        "\n",
        "$ r = \\text{ Runner location } \\in \\{0,1,2\\ldots\\}$\n",
        "\n",
        "$ s = \\text{ Spaces remaining } \\in \\{0,1,2\\ldots\\}$\n",
        "\n",
        "$ t = \\text{ Turns remaining after this turn } \\in \\{1,2,\\ldots\\}$\n",
        "\n",
        "\n",
        "---\n",
        "\n",
        "\n",
        "$\\mathcal{A} = \\{\\text{Roll again}, \\text{Stay} \\}$\n",
        "\n",
        "\n",
        "---\n",
        "\n",
        "\n",
        "$R_t = \\begin{cases} 1\\text{ if Target achieved!} \\\\ 0\\text{ otherwise} \\end{cases}$ \n",
        "\n"
      ],
      "metadata": {
        "id": "KADAOUIkg21J"
      }
    },
    {
      "cell_type": "code",
      "source": [
        "def visualizeMatrix(M): #visualize a matrix as a plot including the scale\n",
        "  fig = plt.figure()\n",
        "  ax = fig.add_subplot(111)\n",
        "  cax = ax.matshow(M, interpolation='nearest')\n",
        "  fig.colorbar(cax)\n",
        "\n",
        "  plt.show()\n",
        "  return"
      ],
      "metadata": {
        "id": "1guaw2Wuorfk"
      },
      "execution_count": 26,
      "outputs": []
    },
    {
      "cell_type": "code",
      "source": [
        "def init_value_funcs_target(R_max,S_max,T_max):\n",
        "\n",
        "  #Value of staying. This is exactly correct!\n",
        "  q_stay = np.zeros((R_max+1,S_max+1,T_max+1))\n",
        "  r,s,t = np.indices(q_stay.shape)\n",
        "  q_stay[ r>=s ] = 1 #If your runner is larger than the target you win by staying!\n",
        "  #otherwise the matrix will have all zeros to start and we will fill in with value iteration\n",
        "\n",
        "\n",
        "  #Value of rolling again. We have to determine this\n",
        "  #q_roll_again[x] = ?\n",
        "  #We intialize it to all zeros since the value is at least 0\n",
        "  # and we'll work our way up to the true value\n",
        "  q_roll_again = np.zeros((R_max+1,S_max+1,T_max+1))\n",
        "\n",
        "  #Optimal value function is the maximum of staying or rolling again \n",
        "  v_star = np.maximum(q_stay,q_roll_again)\n",
        "\n",
        "  return q_stay, q_roll_again, v_star"
      ],
      "metadata": {
        "id": "PE_Td6xWhvfR"
      },
      "execution_count": 23,
      "outputs": []
    },
    {
      "cell_type": "code",
      "source": [
        "q_stay, q_roll_again, v_star = init_value_funcs_target(100,100,3)"
      ],
      "metadata": {
        "id": "BHgfBeJqw6tG"
      },
      "execution_count": 24,
      "outputs": []
    },
    {
      "cell_type": "code",
      "source": [
        "visualizeMatrix(q_stay[:,:,0])"
      ],
      "metadata": {
        "colab": {
          "base_uri": "https://localhost:8080/",
          "height": 271
        },
        "id": "nH9PNCkYxAaD",
        "outputId": "784a9696-ef1c-4ca3-9cec-6ccedefff809"
      },
      "execution_count": 46,
      "outputs": [
        {
          "output_type": "display_data",
          "data": {
            "image/png": "[encoded data removed]",
            "text/plain": [
              "<Figure size 432x288 with 2 Axes>"
            ]
          },
          "metadata": {
            "needs_background": "light"
          }
        }
      ]
    },
    {
      "cell_type": "code",
      "source": [
        "def PIG_value_iteration_target(R_max,S_max,T_max, num_iters=1):\n",
        "  '''Does value iteration for PIG using the target objecting'''\n",
        "  q_stay, q_roll_again, v_star = init_value_funcs_target(R_max,S_max,T_max)\n",
        "  P = PIG_matrix(R_max)\n",
        "\n",
        "  for i in range(num_iters):\n",
        "    for t in np.arange(0,T_max+1):\n",
        "      for s in np.arange(0,S_max+1):\n",
        "        for r in np.arange(R_max,-1,-1):\n",
        "          if t >= 1:\n",
        "            bust_value = v_star[0,s,t-1] #If you bust you go down to zero runners and one less turn\n",
        "          elif t == 0:\n",
        "            bust_value = 0 #If no turns left you just lose when you bust!\n",
        "\n",
        "          prob_bust = 1.0/6.0\n",
        "\n",
        "          #Update acording to the Bellman Eqn!\n",
        "          q_roll_again[r,s,t] = prob_bust*bust_value + (1-prob_bust)*np.einsum('i,i',v_star[:,s,t],P[r,:]) \n",
        "           \n",
        "          #If there is time left, then choosing to stay will advance your position by r and reduce time left by 1 \n",
        "          if t>= 1 and s>r:\n",
        "            q_stay[r,s,t] = v_star[0,s-r,t-1]\n",
        "            \n",
        "          #v_star is the maximum over all possible actions               \n",
        "          v_star[r,s,t] = np.maximum(q_stay[r,s,t],q_roll_again[r,s,t])\n",
        "    \n",
        "  return v_star, q_roll_again > q_stay"
      ],
      "metadata": {
        "id": "7b3si-YQi80K"
      },
      "execution_count": 45,
      "outputs": []
    },
    {
      "cell_type": "code",
      "source": [
        "v_star, roll_again = PIG_value_iteration_target(200,200,10)"
      ],
      "metadata": {
        "id": "MQaZfJe5lujv"
      },
      "execution_count": 43,
      "outputs": []
    },
    {
      "cell_type": "code",
      "source": [
        "visualizeMatrix(roll_again[:,:,10])"
      ],
      "metadata": {
        "colab": {
          "base_uri": "https://localhost:8080/",
          "height": 271
        },
        "id": "RwKwLR80stiR",
        "outputId": "fa94d5d9-a270-40b9-afce-bbde1d7d7bcf"
      },
      "execution_count": 49,
      "outputs": [
        {
          "output_type": "display_data",
          "data": {
            "image/png": "[encoded data removed]",
            "text/plain": [
              "<Figure size 432x288 with 2 Axes>"
            ]
          },
          "metadata": {
            "needs_background": "light"
          }
        }
      ]
    }
  ]
}