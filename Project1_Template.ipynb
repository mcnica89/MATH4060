{
  "nbformat": 4,
  "nbformat_minor": 0,
  "metadata": {
    "colab": {
      "name": "Project1_Template.ipynb",
      "provenance": [],
      "authorship_tag": "ABX9TyOysrmiIaC86nAFL4fj2XWw",
      "include_colab_link": true
    },
    "kernelspec": {
      "name": "python3",
      "display_name": "Python 3"
    },
    "language_info": {
      "name": "python"
    }
  },
  "cells": [
    {
      "cell_type": "markdown",
      "metadata": {
        "id": "view-in-github",
        "colab_type": "text"
      },
      "source": [
        "<a href=\"https://colab.research.google.com/github/mcnica89/MATH4060/blob/main/Project1_Template.ipynb\" target=\"_parent\"><img src=\"https://colab.research.google.com/assets/colab-badge.svg\" alt=\"Open In Colab\"/></a>"
      ]
    },
    {
      "cell_type": "code",
      "execution_count": null,
      "metadata": {
        "id": "FrsX7ycVxemp"
      },
      "outputs": [],
      "source": [
        "#Import packages. Feel free to add any others you might use!\n",
        "import itertools\n",
        "import jax.numpy as jnp\n",
        "import matplotlib.pyplot as plt\n",
        "from jax import random as jrandom\n",
        "from jax import nn as jnn\n",
        "import random\n",
        "import time\n",
        "import math"
      ]
    },
    {
      "cell_type": "markdown",
      "source": [
        "# Problem 1 - Simulating a Markov chain with uniform random variables"
      ],
      "metadata": {
        "id": "t8YlcbPP_W97"
      }
    },
    {
      "cell_type": "code",
      "source": [
        "def Markov_chain_sim(P,X_0,U):\n",
        "  '''Given X_0 and the transition matrix P, gives a possible X_1 \n",
        "     using a uniform [0,1] random variable'''\n",
        "  #Input: \n",
        "  #  P = An array of shape (N,N) where the entries are non-negative and each row sums to 1  \n",
        "  #  x_0 = An integer from the state space [0,N-1]\n",
        "  #  U = A real number between [0,1] which is generated as a uniform random variable\n",
        "  #Ouput:\n",
        "  #  An integer from the state space [0,N-1] which gives the location of the Markov chain at time X_1\n",
        "\n",
        "  X_1 = X_0\n",
        "  return X_1"
      ],
      "metadata": {
        "id": "4RDHUEHT_ZMp"
      },
      "execution_count": 1,
      "outputs": []
    },
    {
      "cell_type": "markdown",
      "source": [
        "# Problem 2 - A weather model"
      ],
      "metadata": {
        "id": "bm3Z_F1UxkV3"
      }
    },
    {
      "cell_type": "markdown",
      "source": [
        "## 2a Solution"
      ],
      "metadata": {
        "id": "R98KdkDkxv9a"
      }
    },
    {
      "cell_type": "markdown",
      "source": [
        "## 2b Solution\n"
      ],
      "metadata": {
        "id": "_HndY1SNynyP"
      }
    },
    {
      "cell_type": "code",
      "source": [
        "\n",
        "def rainy_probability(n):\n",
        "  #Purpose: Find the exact probability on day n given that is sunny today and sunny yesterday\n",
        "  #Input: \n",
        "  #  n = integer number of days in the future\n",
        "  #Output:\n",
        "  # A single number which is the probabaility it is rainy on day n\n",
        "\n",
        "  return 0.5"
      ],
      "metadata": {
        "id": "iuRcIH5Dyu7J"
      },
      "execution_count": null,
      "outputs": []
    },
    {
      "cell_type": "markdown",
      "source": [
        "## 2c Solution\n"
      ],
      "metadata": {
        "id": "0gIFC-egzBYZ"
      }
    },
    {
      "cell_type": "code",
      "source": [
        "\n",
        "def limit_rainy_probability():\n",
        "  #Purpose: Find the exact limiting probability it is rainy in the far future\n",
        "  #Output: \n",
        "  # A single number which is the value of the limit\n",
        "\n",
        "  return 0.5"
      ],
      "metadata": {
        "id": "ImqDXk9OzK_J"
      },
      "execution_count": null,
      "outputs": []
    },
    {
      "cell_type": "markdown",
      "source": [
        "#Problem 3 - Monkey at a typewriter"
      ],
      "metadata": {
        "id": "c1B9qrq1xmMv"
      }
    },
    {
      "cell_type": "markdown",
      "source": [
        "## 3a Solution"
      ],
      "metadata": {
        "id": "AxC_TWjGzmMj"
      }
    },
    {
      "cell_type": "markdown",
      "source": [
        "## 3b Solution"
      ],
      "metadata": {
        "id": "m5-WbY2lzqar"
      }
    },
    {
      "cell_type": "markdown",
      "source": [
        "##3c Solution"
      ],
      "metadata": {
        "id": "F0Wezh3Gztdy"
      }
    },
    {
      "cell_type": "code",
      "source": [
        "def expected_monkey_time(N_buttons, word_sequence):\n",
        "  #Purpose:\n",
        "  #   Returns the expected amount of time for the monkey to type the word\n",
        "  #Input: \n",
        "  #  N_buttons = An integer, number of buttons on the typewritter\n",
        "  #  word_sequence = An array of shape (N_word,). Each enty is an integer in [0,N_buttons-1]\n",
        "  #Output:\n",
        "  #  A real number which is the expected time until the word appears"
      ],
      "metadata": {
        "id": "0OCwag3Xz3_-"
      },
      "execution_count": null,
      "outputs": []
    },
    {
      "cell_type": "markdown",
      "source": [
        "## 3d Solution"
      ],
      "metadata": {
        "id": "kqAdo8ZoA-uZ"
      }
    },
    {
      "cell_type": "code",
      "source": [
        "def expected_mokey_time_tests():\n",
        "  score = 0\n",
        "  score += (expected_mokey_time(5,jnp.array[0]) == 5)"
      ],
      "metadata": {
        "id": "Pxe8yjam1CIv"
      },
      "execution_count": null,
      "outputs": []
    },
    {
      "cell_type": "markdown",
      "source": [
        "# Problem 4 - Generalized PIG\n"
      ],
      "metadata": {
        "id": "SWyKi8K2xnLo"
      }
    },
    {
      "cell_type": "markdown",
      "source": [
        "## 4a Solution"
      ],
      "metadata": {
        "id": "t5xkaJvY1b3d"
      }
    },
    {
      "cell_type": "markdown",
      "source": [
        "## 4b Solution\n",
        "  "
      ],
      "metadata": {
        "id": "OV5WxeYa1gw8"
      }
    },
    {
      "cell_type": "code",
      "source": [
        "def generalized_pig_E_and_P(target_score,p_bust,v_advance):\n",
        "  #Purpose:\n",
        "  #  Returns the expected value of playing the startegy of re-rolling until you hit target_score in generlized Pig\n",
        "  #Input:\n",
        "  #  target_score = Integer\n",
        "  #  p_bust = real in (0,1), probability to go bust on any given roll\n",
        "  #  v_advance = an array of shape (N_max,) indicating the probability to advance on a non-bust roll\n",
        "\n",
        "  E_score = target_score\n",
        "  P_score = 0.5\n",
        "  return E_score, P_score"
      ],
      "metadata": {
        "id": "WI8rEviU1zRf"
      },
      "execution_count": null,
      "outputs": []
    },
    {
      "cell_type": "markdown",
      "source": [
        "# Problem 5 - Simple Can't Stop Roll Again AI"
      ],
      "metadata": {
        "id": "mW1gUr-yxo6J"
      }
    },
    {
      "cell_type": "markdown",
      "source": [
        "## 5a Solution"
      ],
      "metadata": {
        "id": "HKbxSTnGE3EB"
      }
    },
    {
      "cell_type": "code",
      "source": [
        "def cant_stop_bust_probability(runner_col,illegal_col):\n",
        "  #Purpose:\n",
        "  #  Compute the bust_probability if we were to roll again in Can't Stop\n",
        "  #Input:\n",
        "  #  runner_col = an array of shape (11,) of integers with the runner locations\n",
        "  #  illegal_col = an array of shape (11,) of boolean with which columns are illegal to play in \n",
        "  #NOTE:\n",
        "  #  We assume N_Max_Runners = 3 for this one!\n",
        "\n",
        "  return 0.5"
      ],
      "metadata": {
        "id": "mKNMLfJO5BxG"
      },
      "execution_count": null,
      "outputs": []
    },
    {
      "cell_type": "markdown",
      "source": [
        "## 5b Solution"
      ],
      "metadata": {
        "id": "wSxj92zDE5h4"
      }
    },
    {
      "cell_type": "code",
      "source": [
        "def simple_roll_again_AI(runner_col, illegal_col):\n",
        "  #Purpose:\n",
        "  #  Determine wheter or not to roll again or not in Can't stop given ONLY the current state of the runners and the illegal columns\n",
        "  #  (Note: A better AI would take into account the player positions too, but we are making a very simple AI here)\n",
        "  #Input:\n",
        "  #  runner_col = an array of shape (11,) of integers with the runner locations\n",
        "  #  illegal_col = an array of shape (11,) of boolean with which columns are illegal to play in \n",
        "  #NOTE:\n",
        "  #  We assume N_Max_Runners = 3 for this one!\n",
        "\n",
        "  roll_again = bool(random.randint(0,1))\n",
        "  return roll_again"
      ],
      "metadata": {
        "id": "EO3EZMK0_WWp"
      },
      "execution_count": null,
      "outputs": []
    }
  ]
}