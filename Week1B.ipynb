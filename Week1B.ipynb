{
  "nbformat": 4,
  "nbformat_minor": 0,
  "metadata": {
    "colab": {
      "name": "Week1B.ipynb",
      "provenance": [],
      "authorship_tag": "ABX9TyOY+yOd7TO1wvDp3ytAom8K",
      "include_colab_link": true
    },
    "kernelspec": {
      "name": "python3",
      "display_name": "Python 3"
    },
    "language_info": {
      "name": "python"
    },
    "accelerator": "GPU"
  },
  "cells": [
    {
      "cell_type": "markdown",
      "metadata": {
        "id": "view-in-github",
        "colab_type": "text"
      },
      "source": [
        "<a href=\"https://colab.research.google.com/github/mcnica89/MATH4060/blob/main/Week1B.ipynb\" target=\"_parent\"><img src=\"https://colab.research.google.com/assets/colab-badge.svg\" alt=\"Open In Colab\"/></a>"
      ]
    },
    {
      "cell_type": "code",
      "execution_count": 33,
      "metadata": {
        "id": "UnMnJvcFDlmG"
      },
      "outputs": [],
      "source": [
        "import itertools\n",
        "import jax.numpy as jnp\n",
        "import matplotlib.pyplot as plt\n",
        "from jax import random as jrandom\n",
        "from jax import nn as jnn\n",
        "from jax import jit\n",
        "import random\n",
        "import time\n",
        "import timeit\n",
        "import math\n",
        "import numpy as np\n",
        "\n",
        "plt.rc('xtick', labelsize=15) \n",
        "plt.rc('ytick', labelsize=15)\n",
        "font = {'size'   : 20}\n",
        "\n",
        "plt.rc('font', **font)"
      ]
    },
    {
      "cell_type": "markdown",
      "source": [
        "# Gambler's Ruin (aka Drunkard's Walk)\n",
        "\n",
        "Consider the statespace $[[0,N_{target}]] \\subset \\mathbb{Z}$ which represetnt possible values for a gambler's wealth. Let $X_n$ be a Markov chain representing the Gambler's wealth after $n$ bets. If they have no money, $0$, then they cannot make any bets:\n",
        "\n",
        "$$P( X_{n+1} = 0 | X_n = 0) =1$$\n",
        "\n",
        "If they reach their target $N_{target}$, then they choose to stop gambling.\n",
        "\n",
        "\n",
        "$$P( X_{n+1} = N_{target} | X_n = N_{target}) =1$$\n",
        "\n",
        "Otherwise, they bet and their fortune goes up or down by exactly $1$:\n",
        "\n",
        "$$P( X_{n+1} = x+1 | X_n = x) =p$$\n",
        "$$P( X_{n+1} = x-1 | X_n = x) =1-p$$\n",
        "\n",
        "The gambler keeps playing until they either go broke or reach their target. Assume the Gambler gains a reward of 1 life point if they get to $N_{target}$ and the gain a reward of 0 if they reach their target. Determine\n",
        "\n",
        "$$E[\\text{Reward}|X_0 = x] = P(\\text{Reach target}|X_0 = x)$$\n"
      ],
      "metadata": {
        "id": "N46NjQCKD4AC"
      }
    },
    {
      "cell_type": "markdown",
      "source": [
        "## Monte Carlo Methods\n",
        "\n",
        "Simulate it a bunch of times!"
      ],
      "metadata": {
        "id": "n8IRY6BmQ1Y2"
      }
    },
    {
      "cell_type": "code",
      "source": [
        "#Method 1\n",
        "#Monte Carlo Method\n",
        "#Run a bunch of simulations to determine it\n",
        "\n",
        "def Monte_Carlo_naive(N_target, x_0, N_samples):\n",
        "  #Purpose:\n",
        "  # Estimate the reward in Gambler's ruin using many samples\n",
        "  # Run N_sample episodes, keep track of total rewards, and then return the average\n",
        "  #Input:\n",
        "  # N_target = Gambler's target goal\n",
        "  # x_0 = Gambler's starting point\n",
        "  # N_samples = Number of samples to use\n",
        "  #Output:\n",
        "  # An approximation for E[Reward|X_0 = x_0]\n",
        "\n",
        "  total_rewards = 0\n",
        "\n",
        "  for i in range(N_samples):\n",
        "    X = x_0\n",
        "    \n",
        "    while X > 0 and X < N_target:\n",
        "      X += 2*random.randint(0,1)-1\n",
        "\n",
        "    if X == N_target:\n",
        "      total_rewards += 1\n",
        "    \n",
        "  return total_rewards / N_samples"
      ],
      "metadata": {
        "id": "Ilh2tpUrE4Yk"
      },
      "execution_count": 21,
      "outputs": []
    },
    {
      "cell_type": "code",
      "source": [
        "Monte_Carlo_naive(10,5,100)"
      ],
      "metadata": {
        "colab": {
          "base_uri": "https://localhost:8080/"
        },
        "id": "WQ8nAP_qGsy7",
        "outputId": "752b7a38-3fd5-401b-8fca-708dd59d2d1a"
      },
      "execution_count": 22,
      "outputs": [
        {
          "output_type": "execute_result",
          "data": {
            "text/plain": [
              "0.47"
            ]
          },
          "metadata": {},
          "execution_count": 22
        }
      ]
    },
    {
      "cell_type": "code",
      "source": [
        "#Method 2\n",
        "#Monte Carlo Method with variance!\n",
        "#Run a bunch of simulations to determine it\n",
        "\n",
        "def Monte_Carlo_naive_with_var(N_target, x_0, N_samples):\n",
        "  #Purpose:\n",
        "  # Estimate the reward in Gambler's ruin using many samples\n",
        "  # Run N_sample episodes, keep track of total rewards, and then return the average\n",
        "  #Input:\n",
        "  # N_target = Gambler's target goal\n",
        "  # x_0 = Gambler's starting point\n",
        "  # N_samples = Number of samples to use\n",
        "  #Output:\n",
        "  # A tuple with two elements\n",
        "  # First element: An approximation for E[Reward|X_0 = x_0]\n",
        "  # Second element: An approximation for Var[Reward|X_0 = x_0]\n",
        "\n",
        "  total_rewards = 0\n",
        "  total_rewards_squared = 0\n",
        "\n",
        "  for i in range(N_samples):\n",
        "    X = x_0\n",
        "    \n",
        "    while X > 0 and X < N_target:\n",
        "      X += 2*random.randint(0,1)-1\n",
        "\n",
        "    if X == N_target:\n",
        "      total_rewards += 1\n",
        "      total_rewards_squared += 1**2\n",
        "\n",
        "  E_estimate = total_rewards / N_samples\n",
        "  var_estimate = total_rewards_squared/N_samples - (E_estimate)**2\n",
        "    \n",
        "  return E_estimate, var_estimate\n",
        "\n",
        "def Monte_Carlo_with_conf_interval(N_target, x_0, N_samples):\n",
        "  #Purpose:\n",
        "  # Estimate the reward in Gambler's ruin using many samples\n",
        "  # Run N_sample episodes, keep track of total rewards, and then return the average\n",
        "  #Input:\n",
        "  # N_target = Gambler's target goal\n",
        "  # x_0 = Gambler's starting point\n",
        "  # N_samples = Number of samples to use\n",
        "  #Output:\n",
        "  # A 2 SD confidence interval constructed by the CLT\n",
        "\n",
        "  E_estimate, var_estimate = Monte_Carlo_naive_with_var(N_target, x_0, N_samples)\n",
        "\n",
        "  return E_estimate - 2*var_estimate/math.sqrt(N_samples),E_estimate + 2*var_estimate/math.sqrt(N_samples) "
      ],
      "metadata": {
        "id": "knP5JNS0HICG"
      },
      "execution_count": 23,
      "outputs": []
    },
    {
      "cell_type": "code",
      "source": [
        "Monte_Carlo_with_conf_interval(10,5,100000)"
      ],
      "metadata": {
        "colab": {
          "base_uri": "https://localhost:8080/"
        },
        "id": "BR-ow23RIn9k",
        "outputId": "334e8509-6086-4fd5-e13b-c62d8d6deccf"
      },
      "execution_count": 24,
      "outputs": [
        {
          "output_type": "execute_result",
          "data": {
            "text/plain": [
              "(0.4985388612609894, 0.5017011387390106)"
            ]
          },
          "metadata": {},
          "execution_count": 24
        }
      ]
    },
    {
      "cell_type": "code",
      "source": [
        "%time Monte_Carlo_with_conf_interval(10,5,100000)"
      ],
      "metadata": {
        "colab": {
          "base_uri": "https://localhost:8080/"
        },
        "id": "bGl9fQSyNzfC",
        "outputId": "072af161-549e-4bf0-c8cd-b0516e0a967a"
      },
      "execution_count": 25,
      "outputs": [
        {
          "output_type": "stream",
          "name": "stdout",
          "text": [
            "CPU times: user 3.88 s, sys: 11.5 ms, total: 3.89 s\n",
            "Wall time: 3.91 s\n"
          ]
        },
        {
          "output_type": "execute_result",
          "data": {
            "text/plain": [
              "(0.4986088613982323, 0.5017711386017678)"
            ]
          },
          "metadata": {},
          "execution_count": 25
        }
      ]
    },
    {
      "cell_type": "code",
      "source": [
        "def Monte_Carlo_paralel(random_key, N_target, x_0, N_samples):\n",
        "  #Purpose:\n",
        "  # Estimate the reward in Gambler's ruin using many samples\n",
        "  # Run N_sample episodes, keep track of total rewards, and then return the average\n",
        "  #Input:\n",
        "  # random_key = a jax random key\n",
        "  # N_target = Gambler's target goal\n",
        "  # x_0 = Gambler's starting point\n",
        "  # N_samples = Number of samples to use\n",
        "  #Output:\n",
        "  # A tuple with two elements\n",
        "  # First element: An approximation for E[Reward|X_0 = x_0]\n",
        "  # Second element: An approximation for Var[Reward|X_0 = x_0]\n",
        "\n",
        "  X = x_0*jnp.ones(N_samples) #Store all the samples as single big vector!\n",
        "\n",
        "  in_progress_runs = jnp.logical_and(X>0,X<N_target) #An array of booleans that are runs still in progress\n",
        "  while jnp.any(in_progress_runs):\n",
        "\n",
        "    #Create a bunch of coin flips\n",
        "    random_key, random_subkey = jrandom.split(random_key)\n",
        "    coinflips = 2*jrandom.bernoulli(random_subkey,p=0.5,shape=(N_samples,))-1 \n",
        "    \n",
        "    #Update all the guys still in progress by \n",
        "    X = jnp.where(in_progress_runs, X+coinflips, X)\n",
        "    in_progress_runs = jnp.logical_and(X>0,X<N_target)\n",
        "\n",
        "  rewards = (X == N_target)\n",
        "  E_estimate = jnp.mean(rewards)\n",
        "  var_estimate = jnp.var(rewards)\n",
        "    \n",
        "  return E_estimate, var_estimate"
      ],
      "metadata": {
        "id": "ertbBtygK1Ur"
      },
      "execution_count": 26,
      "outputs": []
    },
    {
      "cell_type": "code",
      "source": [
        "random_key = jrandom.PRNGKey(int(time.time()))\n",
        "N_target = 10\n",
        "N_samples = 10**5\n",
        "x_0 = 5\n",
        "%time Monte_Carlo_naive(N_target,x_0,N_samples)\n",
        "%time Monte_Carlo_paralel(random_key,N_target,x_0,N_samples)"
      ],
      "metadata": {
        "colab": {
          "base_uri": "https://localhost:8080/"
        },
        "id": "x-QaAt7dMyDz",
        "outputId": "7421bb3d-d983-4dba-9633-e567baf9b47e"
      },
      "execution_count": 27,
      "outputs": [
        {
          "output_type": "stream",
          "name": "stdout",
          "text": [
            "CPU times: user 3.89 s, sys: 14.6 ms, total: 3.91 s\n",
            "Wall time: 3.91 s\n",
            "CPU times: user 973 ms, sys: 338 ms, total: 1.31 s\n",
            "Wall time: 916 ms\n"
          ]
        },
        {
          "output_type": "execute_result",
          "data": {
            "text/plain": [
              "(DeviceArray(0.49964, dtype=float32), DeviceArray(0.24999988, dtype=float32))"
            ]
          },
          "metadata": {},
          "execution_count": 27
        }
      ]
    },
    {
      "cell_type": "code",
      "source": [
        "random_key = jrandom.PRNGKey(int(time.time()))\n",
        "N_target = 10\n",
        "N_samples = 10**6\n",
        "x_0 = 5\n",
        "%time Monte_Carlo_naive(N_target,x_0,N_samples)\n",
        "%time Monte_Carlo_paralel(random_key,N_target,x_0,N_samples)"
      ],
      "metadata": {
        "colab": {
          "base_uri": "https://localhost:8080/"
        },
        "id": "XAWTuo-CPl6M",
        "outputId": "57192e0d-ac17-4198-bdad-d60bced815cc"
      },
      "execution_count": 28,
      "outputs": [
        {
          "output_type": "stream",
          "name": "stdout",
          "text": [
            "CPU times: user 38.7 s, sys: 127 ms, total: 38.9 s\n",
            "Wall time: 38.9 s\n",
            "CPU times: user 1.25 s, sys: 476 ms, total: 1.72 s\n",
            "Wall time: 1.24 s\n"
          ]
        },
        {
          "output_type": "execute_result",
          "data": {
            "text/plain": [
              "(DeviceArray(0.500151, dtype=float32), DeviceArray(0.24999997, dtype=float32))"
            ]
          },
          "metadata": {},
          "execution_count": 28
        }
      ]
    },
    {
      "cell_type": "markdown",
      "source": [
        "## The Markov chain/Matrix way"
      ],
      "metadata": {
        "id": "FvcFTnO7TV_-"
      }
    },
    {
      "cell_type": "code",
      "source": [
        "def gamblers_ruin_matrix(N_target):\n",
        "  transition_matrix = np.zeros((N_target+1,N_target+1))\n",
        "  i,j = np.indices(transition_matrix.shape)\n",
        "  transition_matrix[i==j-1] = 0.5\n",
        "  transition_matrix[i==j+1] = 0.5\n",
        "\n",
        "  transition_matrix[0,0] = 1\n",
        "  transition_matrix[0,1] = 0\n",
        "  \n",
        "  transition_matrix[N_target,N_target] = 1\n",
        "  transition_matrix[N_target,N_target-1] = 0\n",
        "  \n",
        "  return transition_matrix"
      ],
      "metadata": {
        "id": "dPPkBpNlTaol"
      },
      "execution_count": 50,
      "outputs": []
    },
    {
      "cell_type": "code",
      "source": [
        "P = gamblers_ruin_matrix(10)\n",
        "jnp.set_printoptions(precision=3,suppress=True)\n",
        "print(P)"
      ],
      "metadata": {
        "colab": {
          "base_uri": "https://localhost:8080/"
        },
        "id": "WAMrugFSUa5O",
        "outputId": "4aaa2345-4230-4d5c-fd2e-ee6bc5e63890"
      },
      "execution_count": 59,
      "outputs": [
        {
          "output_type": "stream",
          "name": "stdout",
          "text": [
            "[[1.  0.  0.  0.  0.  0.  0.  0.  0.  0.  0. ]\n",
            " [0.5 0.  0.5 0.  0.  0.  0.  0.  0.  0.  0. ]\n",
            " [0.  0.5 0.  0.5 0.  0.  0.  0.  0.  0.  0. ]\n",
            " [0.  0.  0.5 0.  0.5 0.  0.  0.  0.  0.  0. ]\n",
            " [0.  0.  0.  0.5 0.  0.5 0.  0.  0.  0.  0. ]\n",
            " [0.  0.  0.  0.  0.5 0.  0.5 0.  0.  0.  0. ]\n",
            " [0.  0.  0.  0.  0.  0.5 0.  0.5 0.  0.  0. ]\n",
            " [0.  0.  0.  0.  0.  0.  0.5 0.  0.5 0.  0. ]\n",
            " [0.  0.  0.  0.  0.  0.  0.  0.5 0.  0.5 0. ]\n",
            " [0.  0.  0.  0.  0.  0.  0.  0.  0.5 0.  0.5]\n",
            " [0.  0.  0.  0.  0.  0.  0.  0.  0.  0.  1. ]]\n"
          ]
        }
      ]
    },
    {
      "cell_type": "code",
      "source": [
        "print(jnp.linalg.matrix_power(P,3))"
      ],
      "metadata": {
        "colab": {
          "base_uri": "https://localhost:8080/"
        },
        "id": "rH2Xso7wVtrg",
        "outputId": "dfe470c0-6476-499e-857d-c4feb1128122"
      },
      "execution_count": 62,
      "outputs": [
        {
          "output_type": "stream",
          "name": "stdout",
          "text": [
            "[[1.    0.    0.    0.    0.    0.    0.    0.    0.    0.    0.   ]\n",
            " [0.625 0.    0.25  0.    0.125 0.    0.    0.    0.    0.    0.   ]\n",
            " [0.25  0.25  0.    0.375 0.    0.125 0.    0.    0.    0.    0.   ]\n",
            " [0.125 0.    0.375 0.    0.375 0.    0.125 0.    0.    0.    0.   ]\n",
            " [0.    0.125 0.    0.375 0.    0.375 0.    0.125 0.    0.    0.   ]\n",
            " [0.    0.    0.125 0.    0.375 0.    0.375 0.    0.125 0.    0.   ]\n",
            " [0.    0.    0.    0.125 0.    0.375 0.    0.375 0.    0.125 0.   ]\n",
            " [0.    0.    0.    0.    0.125 0.    0.375 0.    0.375 0.    0.125]\n",
            " [0.    0.    0.    0.    0.    0.125 0.    0.375 0.    0.25  0.25 ]\n",
            " [0.    0.    0.    0.    0.    0.    0.125 0.    0.25  0.    0.625]\n",
            " [0.    0.    0.    0.    0.    0.    0.    0.    0.    0.    1.   ]]\n"
          ]
        }
      ]
    }
  ]
}