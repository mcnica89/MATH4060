{
  "nbformat": 4,
  "nbformat_minor": 0,
  "metadata": {
    "colab": {
      "name": "Week5A_Gamblers_Problem_Optimal_Strategy.ipynb",
      "provenance": [],
      "authorship_tag": "ABX9TyNW3W3egmwgJA84gsxDjmwt",
      "include_colab_link": true
    },
    "kernelspec": {
      "name": "python3",
      "display_name": "Python 3"
    },
    "language_info": {
      "name": "python"
    }
  },
  "cells": [
    {
      "cell_type": "markdown",
      "metadata": {
        "id": "view-in-github",
        "colab_type": "text"
      },
      "source": [
        "<a href=\"https://colab.research.google.com/github/mcnica89/MATH4060/blob/main/Week5A_Gamblers_Problem_Optimal_Strategy.ipynb\" target=\"_parent\"><img src=\"https://colab.research.google.com/assets/colab-badge.svg\" alt=\"Open In Colab\"/></a>"
      ]
    },
    {
      "cell_type": "code",
      "execution_count": 20,
      "metadata": {
        "id": "vnexnHDGtaSs"
      },
      "outputs": [],
      "source": [
        "import numpy as np\n",
        "import matplotlib.pyplot as plt"
      ]
    },
    {
      "cell_type": "code",
      "source": [
        "def plot_value_function_and_actions(v_star, a_star):\n",
        "  #Purpose:\n",
        "  #  Plot v_star and a_star for the Gambler's problem\n",
        "  #Output:\n",
        "  #  A plot of the simple random walks \n",
        "\n",
        "\n",
        "  fig, ax = plt.subplots()  # Create a figure containing a single axes.\n",
        "  ax.axhline(0,color='black',linestyle='dashed')\n",
        "  ax.axhline(1,color='black',linestyle='dashed')\n",
        "  ax.set_title(\"Value function\")\n",
        "  ax.set_xlabel(\"State ($)\")\n",
        "  ax.set_ylabel(\"Value (Probability to win)\")\n",
        "\n",
        "  #ax.set(ylim=(-2*math.sqrt(N_steps),2*math.sqrt(N_steps)))\n",
        "\n",
        "  #print(\"Generating random walks....\")\n",
        "  #random_walks = generate_simple_random_walk(random_key,N_steps,N_samples)\n",
        "  #print(\"Plotting random walks....\")\n",
        "  ax.plot(v_star,linewidth=2, alpha=0.75, color='blue')  # Plot some data on the axes.\n",
        "  \n",
        "  fig2, ax2 = plt.subplots()  # Create a figure containing a single axes.\n",
        "  ax2.set_title(\"Optimal bet\")\n",
        "  ax2.set_xlabel(\"State ($)\")\n",
        "  ax2.set_ylabel(\"Size of the optimal bet\")\n",
        "\n",
        "\n",
        "  ax2.plot(a_star,linewidth=2, alpha=0.75, color='red')  # Plot some data on the axes.\n",
        "\n",
        "  plt.show()\n",
        "  "
      ],
      "metadata": {
        "id": "32_od1vE1Fek"
      },
      "execution_count": 45,
      "outputs": []
    },
    {
      "cell_type": "code",
      "source": [
        "def gamblers_problem_matrix(p_heads,N_target):\n",
        "  '''return a matrix for what happesn int the gamblers problems'''\n",
        "  P = np.zeros((N_target+1,N_target+1,N_target+1))\n",
        "  #P(i,j,a) is the probabilty to go from state i to state j when you bet a\n",
        "  i,j,a = np.indices(P.shape)\n",
        "  first_row = (i==0)\n",
        "  last_row = (i==N_target)\n",
        "  first_or_last_row = np.logical_or(first_row,last_row)\n",
        "  inbetween_row = np.logical_not(first_or_last_row)\n",
        "  maximum_bet_size_ok = np.logical_and(a<=i, a<=N_target-i)\n",
        "  allowed_to_bet = np.logical_and(inbetween_row, maximum_bet_size_ok)\n",
        "  P[np.logical_and(i+a==j, allowed_to_bet)] = p_heads \n",
        "  P[np.logical_and(i-a==j, allowed_to_bet)] = 1-p_heads\n",
        "  P[np.logical_and(i==j,np.logical_not(allowed_to_bet))] = 1\n",
        "  return P"
      ],
      "metadata": {
        "id": "s_jZKtPR6C0a"
      },
      "execution_count": 86,
      "outputs": []
    },
    {
      "cell_type": "code",
      "source": [
        "P = gamblers_problem_matrix(0.4,6)"
      ],
      "metadata": {
        "id": "RY-laxhi7kqK"
      },
      "execution_count": 89,
      "outputs": []
    },
    {
      "cell_type": "code",
      "source": [
        "print(P[:,:,3])"
      ],
      "metadata": {
        "colab": {
          "base_uri": "https://localhost:8080/"
        },
        "id": "fcoFmkm_7q4R",
        "outputId": "56278307-d350-45eb-de53-82c8b3748cbe"
      },
      "execution_count": 91,
      "outputs": [
        {
          "output_type": "stream",
          "name": "stdout",
          "text": [
            "[[1.  0.  0.  0.  0.  0.  0. ]\n",
            " [0.  1.  0.  0.  0.  0.  0. ]\n",
            " [0.  0.  1.  0.  0.  0.  0. ]\n",
            " [0.6 0.  0.  0.  0.  0.  0.4]\n",
            " [0.  0.  0.  0.  1.  0.  0. ]\n",
            " [0.  0.  0.  0.  0.  1.  0. ]\n",
            " [0.  0.  0.  0.  0.  0.  1. ]]\n"
          ]
        }
      ]
    },
    {
      "cell_type": "code",
      "source": [
        "def gamblers_problem(p_heads, N_target, num_iters=10, loops=False):\n",
        "  '''Given the gamblers problem, find the optimal value function v_star \n",
        "     and the optimal action a_star at any given state s'''\n",
        "\n",
        "  v_star = np.zeros(N_target+1) #An array with the optimal values\n",
        "  v_star[N_target] = 1 #Initialize known values at s=N_target and s=0\n",
        "  v_star[0] = 0 \n",
        "\n",
        "  a_star = np.zeros(N_target+1) #An array with the optimal betting size\n",
        "  #The s-th component represent the value at s\n",
        "\n",
        "  q_star = np.zeros((N_target+1,N_target+1))\n",
        "  #q_star(s,a) is the value function if you play action a from state s\n",
        "  # and then play optimally afterwards\n",
        "  # The s-th, a-th etnry of q_star represents q_star(s,a)\n",
        "  # Be careful! q_star(s,a) only makes sense if a is less than max_bet at s\n",
        "  # Max_bet(s) = min(s,N_target-s)\n",
        "\n",
        "  P = gamblers_problem_matrix(p_heads,N_target)\n",
        "\n",
        "  for iteration in range(num_iters):\n",
        "    if iteration % 100 == 0:\n",
        "      print(\"Iteration number: \", iteration)\n",
        "    \n",
        "    if not loops:\n",
        "      q_star = np.einsum( 'sja,j->sa' ,P,v_star)\n",
        "      v_star = np.max(q_star,axis=1)\n",
        "      a_star = np.argmax(q_star,axis=1)\n",
        "    else:\n",
        "    #Loop way:\n",
        "    #plot_value_function_and_actions(v_star,a_star)\n",
        "      for s in range(0,N_target): #Loop through all states\n",
        "        max_bet = np.minimum(s, N_target-s )\n",
        "        for a in range(1,max_bet+1): #Loop through all allowed actions\n",
        "          q_star[s,a] = p_heads*v_star[s+a] + (1-p_heads)*v_star[s-a]\n",
        "          v_star[s] = np.max(q_star[s,:])\n",
        "          a_star[s] = np.argmax(q_star[s,:])\n",
        "\n",
        "  plot_value_function_and_actions(v_star,a_star)\n",
        "  return v_star, a_star"
      ],
      "metadata": {
        "id": "He0Df9muvlw5"
      },
      "execution_count": 102,
      "outputs": []
    },
    {
      "cell_type": "code",
      "source": [
        "%time gamblers_problem(0.3, 100, 1000, False)"
      ],
      "metadata": {
        "colab": {
          "base_uri": "https://localhost:8080/",
          "height": 1000
        },
        "id": "wWyNJRwfweoO",
        "outputId": "1d18fb23-f729-41f4-b1db-023a8204ff53"
      },
      "execution_count": 105,
      "outputs": [
        {
          "output_type": "stream",
          "name": "stdout",
          "text": [
            "Iteration number:  0\n",
            "Iteration number:  100\n",
            "Iteration number:  200\n",
            "Iteration number:  300\n",
            "Iteration number:  400\n",
            "Iteration number:  500\n",
            "Iteration number:  600\n",
            "Iteration number:  700\n",
            "Iteration number:  800\n",
            "Iteration number:  900\n"
          ]
        },
        {
          "output_type": "display_data",
          "data": {
            "image/png": "[encoded data removed]",
            "text/plain": [
              "<Figure size 432x288 with 1 Axes>"
            ]
          },
          "metadata": {
            "needs_background": "light"
          }
        },
        {
          "output_type": "display_data",
          "data": {
            "image/png": "[encoded data removed]",
            "text/plain": [
              "<Figure size 432x288 with 1 Axes>"
            ]
          },
          "metadata": {
            "needs_background": "light"
          }
        },
        {
          "output_type": "stream",
          "name": "stdout",
          "text": [
            "CPU times: user 1.36 s, sys: 12.1 ms, total: 1.38 s\n",
            "Wall time: 1.62 s\n"
          ]
        },
        {
          "output_type": "execute_result",
          "data": {
            "text/plain": [
              "(array([0.00000000e+00, 2.66917018e-04, 8.89723393e-04, 1.92325355e-03,\n",
              "        2.96574464e-03, 4.32158176e-03, 6.41084517e-03, 8.50388325e-03,\n",
              "        9.88581548e-03, 1.18309578e-02, 1.44052725e-02, 1.77664658e-02,\n",
              "        2.13694839e-02, 2.71868419e-02, 2.83462775e-02, 3.00251072e-02,\n",
              "        3.29527183e-02, 3.52816705e-02, 3.94365260e-02, 4.60307893e-02,\n",
              "        4.80175751e-02, 5.16971693e-02, 5.92215525e-02, 6.31880185e-02,\n",
              "        7.12316130e-02, 9.00000000e-02, 9.06228064e-02, 9.20760213e-02,\n",
              "        9.44875916e-02, 9.69200708e-02, 1.00083691e-01, 1.04958639e-01,\n",
              "        1.09842394e-01, 1.13066903e-01, 1.17605568e-01, 1.23612303e-01,\n",
              "        1.31455087e-01, 1.39862129e-01, 1.53435964e-01, 1.56141314e-01,\n",
              "        1.60058584e-01, 1.66889676e-01, 1.72323898e-01, 1.82018561e-01,\n",
              "        1.97405175e-01, 2.02041008e-01, 2.10626728e-01, 2.28183623e-01,\n",
              "        2.37438710e-01, 2.56207097e-01, 3.00000000e-01, 3.00622806e-01,\n",
              "        3.02076021e-01, 3.04487592e-01, 3.06920071e-01, 3.10083691e-01,\n",
              "        3.14958639e-01, 3.19842394e-01, 3.23066903e-01, 3.27605568e-01,\n",
              "        3.33612303e-01, 3.41455087e-01, 3.49862129e-01, 3.63435964e-01,\n",
              "        3.66141314e-01, 3.70058584e-01, 3.76889676e-01, 3.82323898e-01,\n",
              "        3.92018561e-01, 4.07405175e-01, 4.12041008e-01, 4.20626728e-01,\n",
              "        4.38183623e-01, 4.47438710e-01, 4.66207097e-01, 5.10000000e-01,\n",
              "        5.11453215e-01, 5.14844050e-01, 5.20471047e-01, 5.26146832e-01,\n",
              "        5.33528612e-01, 5.44903490e-01, 5.56298920e-01, 5.63822773e-01,\n",
              "        5.74412993e-01, 5.88428706e-01, 6.06728536e-01, 6.26344968e-01,\n",
              "        6.58017250e-01, 6.64329733e-01, 6.73470028e-01, 6.89409244e-01,\n",
              "        7.02089095e-01, 7.24709975e-01, 7.60612075e-01, 7.71429020e-01,\n",
              "        7.91462366e-01, 8.32428453e-01, 8.54023656e-01, 8.97816560e-01,\n",
              "        1.00000000e+00]),\n",
              " array([ 0,  1,  2,  3,  4,  5,  6,  7,  8,  9, 10, 11, 12, 13, 11, 15,  9,\n",
              "        17,  7,  6,  5,  4,  3,  2,  1, 25,  1,  2,  3,  4, 30,  6,  7,  8,\n",
              "         9, 10, 11, 13, 12, 11, 10,  9,  8,  7,  6,  5,  4,  3,  2,  1, 50,\n",
              "         1,  2,  3,  4,  5,  6,  7,  8,  9, 10, 11, 12, 12, 11, 10,  9, 33,\n",
              "         7,  6,  5,  4, 28,  2,  1, 25,  1,  2,  3,  4,  5,  6,  7,  8,  9,\n",
              "        15, 11, 12, 12, 11, 10,  9,  8,  7,  6,  5,  4,  3,  2,  1,  0]))"
            ]
          },
          "metadata": {},
          "execution_count": 105
        }
      ]
    }
  ]
}