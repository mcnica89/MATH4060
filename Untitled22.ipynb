{
  "nbformat": 4,
  "nbformat_minor": 0,
  "metadata": {
    "colab": {
      "name": "Untitled22.ipynb",
      "provenance": [],
      "authorship_tag": "ABX9TyNYY2BvYItEXhWdfwFngvpS",
      "include_colab_link": true
    },
    "kernelspec": {
      "name": "python3",
      "display_name": "Python 3"
    },
    "language_info": {
      "name": "python"
    }
  },
  "cells": [
    {
      "cell_type": "markdown",
      "metadata": {
        "id": "view-in-github",
        "colab_type": "text"
      },
      "source": [
        "<a href=\"https://colab.research.google.com/github/mcnica89/MATH4060/blob/main/Untitled22.ipynb\" target=\"_parent\"><img src=\"https://colab.research.google.com/assets/colab-badge.svg\" alt=\"Open In Colab\"/></a>"
      ]
    },
    {
      "cell_type": "markdown",
      "source": [
        "# Problem\n",
        "Suppose that the chance of rain tomorrow\n",
        "depends on previous weather conditions only through whether or not it is raining today\n",
        "and not on past weather conditions. Suppose also that if it rains today, then it will rain\n",
        "tomorrow with probability $\\alpha$; and if it does not rain today, then it will rain tomorrow\n",
        "with probability $\\beta$\n",
        "\n",
        "a) Model this as a Markov chain. Clearly state the state space and draw a diagram of the graph of the Markov chain.\n",
        "\n",
        "b) Write a function that inputs a time $n$, the parameters $\\alpha$,$\\beta$ and outputs the probability of rain $n$ days later given that it is rainy today."
      ],
      "metadata": {
        "id": "8EORgJx8J-Ab"
      }
    },
    {
      "cell_type": "markdown",
      "source": [
        "# Part a) Solution\n",
        "We can model this as a Markov chain with two states\n",
        "$$S = \\left\\{ Rainy, Not Rainy \\right\\}$$\n",
        "\n",
        "The diagram for this Markov chain is (the number on the edges represents the probability to move along that edge in one step)\n",
        "\n",
        "\n"
      ],
      "metadata": {
        "id": "KTjYDGkhKrQ5"
      }
    },
    {
      "cell_type": "markdown",
      "source": [
        "![TwoStateMarkovChain.png](data:image/png;base64,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)"
      ],
      "metadata": {
        "id": "HvmpkpRIMytV"
      }
    },
    {
      "cell_type": "markdown",
      "source": [
        "### Notes\n",
        "- Note that in the problem as stated, there is no mention of \"Sunny\", so if you want to use \"Sunny\" as a state you should explain this actually means all possible weather conditions that are not rainy\n",
        "- You can copy in images but its annoying to look at the textblock when this happens....if you do this make sure to put the images in their own textblock. Or you can include a link to a google drive image i.e. https://stackoverflow.com/questions/50670920/how-to-insert-an-inline-image-in-google-colaboratory-from-google-drive\n",
        "\n"
      ],
      "metadata": {
        "id": "JlvIkyTYO8Jf"
      }
    },
    {
      "cell_type": "markdown",
      "source": [
        "# Part b Solution\n",
        "When implementing this Markov chain in our code, we will use the state space $S = \\left\\{ 0, 1 \\right\\}$ with the correspondence that \"Rainy\" is State 0 and \"Not Rainy\" is State 1. With this convention, the transition matrix $P_{ij} = \\textbf{P}(X_{n+1}=j | X_{n}=i)$ is the 2x2 matrix\n",
        "\n",
        "$$P = \\left[\\begin{array}{cc}\n",
        "\\alpha & 1-\\alpha\\\\\n",
        "\\beta & 1-\\beta\n",
        "\\end{array}\\right] \\tag{1}$$\n",
        "\n",
        "To get the probability of rain on various days, we will use the probability vectors at time $n$, \n",
        "\n",
        "$$\\vec{v}_n = [\\mathbf{P}(X_n = Rainy), \\mathbf{P}(X_n = NotRainy)] \\tag{2}$$\n",
        "\n",
        "and the update formula for these vectors from class:\n",
        "\n",
        "$$\\vec{v}_{n} = \\vec{v}_{0} P^n \\tag{3}$$\n"
      ],
      "metadata": {
        "id": "In_V7SNmMy_m"
      }
    },
    {
      "cell_type": "markdown",
      "source": [
        "### Notes on the math\n",
        "\n",
        "\n",
        "- Stating that \"Rainy\" will correspond to state 0 is something that needs to be done to make the code and matrix make sense\n",
        "- Notice that the question didn't actually ask for the tranition matrix in math, but since its going to be part of my code, I wrote it up nicely in the math mode so its more readable and included an equation number I can reference in the code"
      ],
      "metadata": {
        "id": "-Us-Irb-NXGL"
      }
    },
    {
      "cell_type": "code",
      "source": [
        "#Import stuff\n",
        "import itertools\n",
        "import jax.numpy as jnp\n",
        "import matplotlib.pyplot as plt\n",
        "from jax import random as jrandom\n",
        "from jax import nn as jnn\n",
        "import random\n",
        "import time\n",
        "import math"
      ],
      "metadata": {
        "id": "Zvm-9USQSKMa"
      },
      "execution_count": 6,
      "outputs": []
    },
    {
      "cell_type": "code",
      "source": [
        "def transition_matrix(alpha, beta):\n",
        "  #Purpose: Returns the 2x2 transition matrix P from equation (1) \n",
        "  #Input: \n",
        "  #  alpha = A real number\n",
        "  #  beta = A real number\n",
        "  #Output: An array of shape (2,2)\n",
        "\n",
        "  return jnp.array([[alpha, 1-alpha],[beta, 1-beta]])\n",
        "\n",
        "def rainy_day_chance(n, alpha, beta):\n",
        "  #Purpose: Returns the chance of rain on day n given that its rainy today \n",
        "  #Input: \n",
        "  #  n = An integer\n",
        "  #  alpha = A real number\n",
        "  #  beta = A real number\n",
        "  #Output: A real number\n",
        "\n",
        "  #Create the transition matrix from equation (1)\n",
        "  P = transition_matrix(alpha, beta)\n",
        "\n",
        "  #Initial probability vector is [1,0] by equation (2) since we are given its rainy on day 0\n",
        "  v_0 = jnp.array([1,0]) \n",
        "\n",
        "  #Get the probability vector on day n using equation (3)\n",
        "  v_n = jnp.matmul(v_0,jnp.linalg.matrix_power(P,n))\n",
        "\n",
        "  #By equation (2), the probability of rain is the 0th component of the vector v_n\n",
        "  return v_n[0]"
      ],
      "metadata": {
        "id": "jNkJCI0LNWYn"
      },
      "execution_count": 11,
      "outputs": []
    },
    {
      "cell_type": "markdown",
      "source": [
        "### Notes\n",
        "- A seperate function for the tranisition matrix is not strictly nessasary for this problem, but anyting that is somewhat complicated/hard to understand on its own can go into its own function to make where it easier to read\n",
        "- Note that if you had used a for loop to calculate v_1,v_2,...,v_n instead of jumping to v_n directly this is less efficient!"
      ],
      "metadata": {
        "id": "xbypCHhlRW-m"
      }
    },
    {
      "cell_type": "code",
      "source": [
        "def problem_1b_test():\n",
        "  #Tests the function in a bunch of situations and returns a score\n",
        "  num_correct = 0\n",
        "  num_correct += int(rainy_day_chance(1,0.1,0.2) == 0.1)\n",
        "  num_correct += int(rainy_day_chance(0,0.1,0.2) == 1)\n",
        "  num_correct += int(rainy_day_chance(9,0.4,0.4) == 0.4)\n",
        "  num_correct += int(rainy_day_chance(100,0.4,0.4) == 0.4)\n",
        "  num_correct += int( abs(rainy_day_chance(100,2/3,1/2) - 0.6) < 0.0001) #Some checks will count up to some number of decimal points\n",
        "  \n",
        "  \n",
        "\n",
        "  return num_correct"
      ],
      "metadata": {
        "id": "oeD6eStWSb31"
      },
      "execution_count": 53,
      "outputs": []
    },
    {
      "cell_type": "code",
      "source": [
        "problem_1b_test()"
      ],
      "metadata": {
        "colab": {
          "base_uri": "https://localhost:8080/"
        },
        "id": "beCdUeovSpPe",
        "outputId": "8ab60117-e7b1-4ec0-8a8b-752a12af4c36"
      },
      "execution_count": 55,
      "outputs": [
        {
          "output_type": "execute_result",
          "data": {
            "text/plain": [
              "5"
            ]
          },
          "metadata": {},
          "execution_count": 55
        }
      ]
    }
  ]
}